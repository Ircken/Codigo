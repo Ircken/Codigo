{
 "cells": [
  {
   "cell_type": "code",
   "execution_count": 1,
   "metadata": {},
   "outputs": [],
   "source": [
    "using DataFrames\n",
    "using Statistics\n",
    "using CSV\n",
    "using Suppressor"
   ]
  },
  {
   "cell_type": "code",
   "execution_count": 2,
   "metadata": {},
   "outputs": [
    {
     "data": {
      "text/plain": [
       "inicializar (generic function with 1 method)"
      ]
     },
     "execution_count": 2,
     "metadata": {},
     "output_type": "execute_result"
    }
   ],
   "source": [
    "function inicializar()\n",
    "    out = DataFrame(Hora = String[], kWhcount = Float64[], count = Int64[])\n",
    "    rename!(out, [:\"Hora\", :\"kWh*count\", :\"count\"])\n",
    "\n",
    "    for i in 0:23\n",
    "        for j in 0:3\n",
    "            append!(out[!, \"Hora\"],[hora(i, j)])\n",
    "            append!(out[!, \"kWh*count\"],[0.0])\n",
    "            append!(out[!, \"count\"],[0])\n",
    "        end\n",
    "    end    \n",
    "    \n",
    "    return out\n",
    "end"
   ]
  },
  {
   "cell_type": "code",
   "execution_count": 3,
   "metadata": {},
   "outputs": [
    {
     "data": {
      "text/plain": [
       "hora (generic function with 1 method)"
      ]
     },
     "execution_count": 3,
     "metadata": {},
     "output_type": "execute_result"
    }
   ],
   "source": [
    "function hora(i, j)      \n",
    "    if i != 0\n",
    "        if i < 10\n",
    "            h = \"0\" * string(i)\n",
    "        else\n",
    "            h = string(i)\n",
    "        end\n",
    "    else\n",
    "        h = \"00\"  \n",
    "    end   \n",
    "\n",
    "    if j != 0\n",
    "        m = string(j*15)\n",
    "    else\n",
    "        m = \"00\"    \n",
    "    end   \n",
    "    \n",
    "    return h * \":\" * m * \":\" * \"00\"\n",
    "end"
   ]
  },
  {
   "cell_type": "code",
   "execution_count": 4,
   "metadata": {},
   "outputs": [
    {
     "data": {
      "text/plain": [
       "sumar_columnas (generic function with 1 method)"
      ]
     },
     "execution_count": 4,
     "metadata": {},
     "output_type": "execute_result"
    }
   ],
   "source": [
    "function sumar_columnas(out, df)\n",
    "    \n",
    "    if !(isempty(out)) || !(isempty(df))\n",
    "            out[!, 2] .= out[!, 2] + df[!, 2]\n",
    "            out[!, 3] .= out[!, 3] + df[!, 3]\n",
    "        return out\n",
    "    end\n",
    "    \n",
    "end"
   ]
  },
  {
   "cell_type": "code",
   "execution_count": 5,
   "metadata": {},
   "outputs": [
    {
     "data": {
      "text/plain": [
       "df_por_tarifa (generic function with 1 method)"
      ]
     },
     "execution_count": 5,
     "metadata": {},
     "output_type": "execute_result"
    }
   ],
   "source": [
    "function df_por_tarifa(df)\n",
    "\n",
    "    aux = DataFrame()\n",
    "    out = DataFrame(Hora = String[], kWhcount = Float64[], count = Int64[])\n",
    "    rename!(out, [:\"Hora\", :\"kWh*count\", :\"count\"])\n",
    "\n",
    "    for i in 0:23\n",
    "        for j in 0:3\n",
    "            horario = hora(i, j)\n",
    "            aux = filter(:\"Hora\" => n -> n == horario, df)\n",
    "\n",
    "            kWh = mean(aux[!, 2])\n",
    "            count = length(aux[!, 2])\n",
    "            prod = kWh*count\n",
    "\n",
    "            #push!(aux, [horario prod count])\n",
    "            append!(out[!, \"Hora\"],[horario])\n",
    "            append!(out[!, \"kWh*count\"],[prod])\n",
    "            append!(out[!, \"count\"],[count])        \n",
    "        end\n",
    "    end\n",
    "    return out\n",
    "    \n",
    "end"
   ]
  },
  {
   "cell_type": "code",
   "execution_count": 6,
   "metadata": {},
   "outputs": [
    {
     "data": {
      "text/plain": [
       "t_n_f_index (generic function with 1 method)"
      ]
     },
     "execution_count": 6,
     "metadata": {},
     "output_type": "execute_result"
    }
   ],
   "source": [
    "# obtener tarifa\n",
    "function t_n_f_index(archivo)\n",
    "\n",
    "    open(archivo, \"r\") do f\n",
    "        lines = readlines(f)\n",
    "\n",
    "        tariff_index = findfirst(t -> occursin(\"Servicio:\", t), lines) # indices de tarifa y fecha\n",
    "                             \n",
    "        # obtener tipo de tarifa\n",
    "        tariff_vector = split(lines[tariff_index], \";\")\n",
    "        filter!(x -> x != \" \", tariff_vector) # eliminar espacio vacio \n",
    "        filter!(x -> x != \"\", tariff_vector) # eliminar espacio vacio \n",
    "        if occursin(\"Medicion:\", tariff_vector[2])\n",
    "            tariff_vector[2] = \"Medicion:\"\n",
    "        end\n",
    "        \n",
    "        # tarifa e indice de fecha\n",
    "        return tariff_vector[2]\n",
    "    end\n",
    "    \n",
    "end"
   ]
  },
  {
   "cell_type": "code",
   "execution_count": 7,
   "metadata": {},
   "outputs": [
    {
     "data": {
      "text/plain": [
       "limpiarTexto (generic function with 1 method)"
      ]
     },
     "execution_count": 7,
     "metadata": {},
     "output_type": "execute_result"
    }
   ],
   "source": [
    "function limpiarTexto(f)\n",
    "\n",
    "    lines = readlines(f)\n",
    "    fecha_in = findfirst(t -> occursin(\"Fecha\", t), lines)\n",
    "    lines[end] = \"\" # eliminar ultima linea\n",
    "    # si existe esa esctructura eliminarla\n",
    "    if lines[end - 1] == \";;;;;;;;;;;;;;;;\"\n",
    "        lines[end - 1] = \"\" \n",
    "    end\n",
    "\n",
    "    lines = lines[fecha_in: end] # obtener solo las lineas a partir de la fecha\n",
    "    lines[1] = replace(lines[1], \"\\xe1\" => \"\") # sustituir caracteres especiales  \n",
    "    string = join(lines, \"\\n\") # vector a string para leerlo como csv\n",
    "    string = replace(string, \";;\" => \";\") # eliminar duplicados\n",
    "    return string\n",
    "    \n",
    "end"
   ]
  },
  {
   "cell_type": "code",
   "execution_count": 8,
   "metadata": {},
   "outputs": [
    {
     "data": {
      "text/plain": [
       "primeraLimpiezaDF (generic function with 1 method)"
      ]
     },
     "execution_count": 8,
     "metadata": {},
     "output_type": "execute_result"
    }
   ],
   "source": [
    "function primeraLimpiezaDF(df)\n",
    "    \n",
    "    # renombrar \"Fecha hora\" a \"Fecha Hora\"\n",
    "    if \"Fecha hora\" in names(df)\n",
    "        rename!(df, \"Fecha hora\" => \"Fecha Hora\")\n",
    "    end\n",
    "    select!(df, \"Fecha Hora\", \"kWh\") # eliminar las columnas no utiles\n",
    "    dropmissing!(df, \"Fecha Hora\") # eliminar los missing\n",
    "    dropmissing!(df, \"kWh\") # eliminar los missing\n",
    "    \n",
    "    return df\n",
    "end"
   ]
  },
  {
   "cell_type": "code",
   "execution_count": 9,
   "metadata": {},
   "outputs": [
    {
     "data": {
      "text/plain": [
       "segundaLimpiezaDF (generic function with 1 method)"
      ]
     },
     "execution_count": 9,
     "metadata": {},
     "output_type": "execute_result"
    }
   ],
   "source": [
    "function segundaLimpiezaDF(df)\n",
    "    \n",
    "    df[!,2] .= replace.(df[!,2], \",\" => \".\") # coma a punto\n",
    "    df[!,2] .= parse.(Float64, df[!,2]) # string a float\n",
    "\n",
    "    transform!(df, :\"Fecha Hora\" => ByRow(x -> split(x, ' ')) => [:\"Fecha\", :\"Hora\"]) # separar fecha y hora\n",
    "    df = df[:, [2, 4]] # dejar las columnas Fecha y Fecha Hora\n",
    "    df[!, 1], df[!, 2] = df[!, 2], df[!, 1] # cambiar valores de las columnas\n",
    "    rename!(df, [:\"Hora\", :\"kWh\"]) # renombrar columnas\n",
    "    \n",
    "    return df\n",
    "end"
   ]
  },
  {
   "cell_type": "code",
   "execution_count": 10,
   "metadata": {},
   "outputs": [],
   "source": [
    "# obtener ubicacion de todos los archivos\n",
    "archivos = Vector{String}()\n",
    "carpeta = \"procesar\"\n",
    "# recorrer cada carpeta dentro de \"carpeta\"\n",
    "for folder in readdir(carpeta)\n",
    "    \n",
    "    # recorrer cada archivo dentro de la carpeta dentro de \"folder\"\n",
    "    for file in readdir(carpeta * \"/\" *folder)\n",
    "        push!(archivos, \"$carpeta/$folder/$file\")\n",
    "    end\n",
    "    \n",
    "end"
   ]
  },
  {
   "cell_type": "code",
   "execution_count": 11,
   "metadata": {},
   "outputs": [],
   "source": [
    "# obtener vectores de tarifa e indice de fecha\n",
    "tariff = Vector{String}()\n",
    "\n",
    "for i in 1:length(archivos)\n",
    "\n",
    "    archivo = archivos[i] # ORDEN DE LECTURA\n",
    "    aux = t_n_f_index(archivo)\n",
    "    # guardar tarifa e indice de fecha\n",
    "    push!(tariff, aux)\n",
    "\n",
    "end"
   ]
  },
  {
   "cell_type": "code",
   "execution_count": 12,
   "metadata": {},
   "outputs": [
    {
     "name": "stdout",
     "output_type": "stream",
     "text": [
      "TARIFA 3 B.T. -> 812\n",
      "Residencial Monobanda Pospago -> 10\n",
      "Tarifa 2 BT -> 52\n",
      "TARIFA 3 M.T. -> 244\n",
      "T1 con modo de reactiva 2 -> 1352\n",
      "Bidireccional T3 -> 3\n",
      "Medicion: -> 17\n",
      "Bidireccional T1 -> 10\n"
     ]
    }
   ],
   "source": [
    "tariff_set_list = collect(Set(tariff)) # lista de valores unicos\n",
    "for i in tariff_set_list\n",
    "    println(\"$i -> \", count(==(i), tariff))\n",
    "end"
   ]
  },
  {
   "cell_type": "code",
   "execution_count": 13,
   "metadata": {},
   "outputs": [
    {
     "name": "stdout",
     "output_type": "stream",
     "text": [
      "procesar/100/ReporteRegistros98.csv\n",
      "procesar/1100/ReporteRegistros1032.csv\n",
      "procesar/1100/ReporteRegistros1058.csv\n",
      "procesar/1100/ReporteRegistros1083.csv\n",
      "procesar/1100/ReporteRegistros1085.csv\n",
      "procesar/1100/ReporteRegistros1086.csv\n",
      "procesar/1100/ReporteRegistros1091.csv\n",
      "procesar/1100/ReporteRegistros1092.csv\n",
      "procesar/1100/ReporteRegistros1093.csv\n",
      "procesar/1200/ReporteRegistros1104.csv\n",
      "procesar/1200/ReporteRegistros1106.csv\n",
      "procesar/1200/ReporteRegistros1121.csv\n",
      "procesar/1200/ReporteRegistros1122.csv\n",
      "procesar/1200/ReporteRegistros1185.csv\n",
      "procesar/200/ReporteRegistros172.csv\n",
      "procesar/2000/ReporteRegistros1992.csv\n",
      "procesar/500/ReporteRegistros443.csv\n"
     ]
    }
   ],
   "source": [
    "for i in 1:length(tariff)\n",
    "    if tariff[i] != \"TARIFA 3 B.T.\" && \n",
    "        tariff[i] != \"TARIFA 3 M.T.\" && \n",
    "        tariff[i] != \"T1 con modo de reactiva 2\" &&\n",
    "        tariff[i] != \"Bidireccional T1\" &&\n",
    "        tariff[i] != \"Bidireccional T3\" &&\n",
    "        tariff[i] != \"Residencial Monobanda Pospago\" &&\n",
    "        tariff[i] != \"Tarifa 2 BT\"\n",
    "\n",
    "        println(\"$(archivos[i])\")\n",
    "    end\n",
    "end"
   ]
  },
  {
   "cell_type": "code",
   "execution_count": 14,
   "metadata": {},
   "outputs": [
    {
     "data": {
      "text/plain": [
       "\"\""
      ]
     },
     "execution_count": 14,
     "metadata": {},
     "output_type": "execute_result"
    }
   ],
   "source": [
    "# para cada tarifa\n",
    "# recorrer elementos unicos de tarifa\n",
    "@suppress begin\n",
    "    for i in 1:length(tariff_set_list)\n",
    "        \n",
    "        global contador = 0\n",
    "        # se opera sobre cada coincidencia de tarifa\n",
    "        # sin procesar \"Medicion:\"\n",
    "        if occursin(\"Medicion:\", tariff_set_list[i]) != true\n",
    "            global out = inicializar() # inicializar un df generico\n",
    "            posicion_tarifas = findall(x -> x == tariff_set_list[i] , tariff) # posiciones de tarifa    \n",
    "\n",
    "            # recorrer cada archivo de cada tarifa\n",
    "            for indice_tarifa in posicion_tarifas\n",
    "                archivo = archivos[indice_tarifa] # archivo con ese indice de tarifa\n",
    "                \n",
    "                    # abrir archivo\n",
    "                    open(archivo, \"r\") do f\n",
    "\n",
    "                        string = limpiarTexto(f) # preparar texto para df\n",
    "                        df = CSV.read(IOBuffer(string), DataFrame; delim = \";\", header = true) # string a csv                    \n",
    "                        df = primeraLimpiezaDF(df)\n",
    "\n",
    "                        if length(df[!, 1]) > 0\n",
    "                            \n",
    "                            global contador += 1\n",
    "                            df = segundaLimpiezaDF(df)\n",
    "                            df_out = df_por_tarifa(df) # df de solo 24h*(60min/1h)/15min = 96\n",
    "\n",
    "                            # limpiar NaN\n",
    "                            for col in eachcol(df_out)\n",
    "                                replace!(col, NaN => 0.0)\n",
    "                            end    \n",
    "\n",
    "                            out = sumar_columnas(df_out, out) # sumar df especifico\n",
    "                        \n",
    "                        end \n",
    "                    end\n",
    "            end\n",
    "            nombre = \"$(tariff_set_list[i])-$contador\"\n",
    "            CSV.write(\"excel_out/$nombre.csv\", out) # guardar df por tarifa\n",
    "        end\n",
    "    end\n",
    "end\n",
    "\"\""
   ]
  },
  {
   "cell_type": "markdown",
   "metadata": {},
   "source": [
    "2500 archivos -> 1235.6416751s"
   ]
  },
  {
   "cell_type": "markdown",
   "metadata": {},
   "source": [
    "2000 archivos -> 1072.1882294s"
   ]
  },
  {
   "cell_type": "markdown",
   "metadata": {},
   "source": [
    "1500 archivos -> 805.6667233s"
   ]
  },
  {
   "cell_type": "markdown",
   "metadata": {},
   "source": [
    "1000 archivos -> 715.2833667s"
   ]
  },
  {
   "cell_type": "markdown",
   "metadata": {},
   "source": [
    "500 archivos -> 322.694863s"
   ]
  },
  {
   "cell_type": "markdown",
   "metadata": {},
   "source": [
    "---------------------------------------------------------------------------------------------------------------------------------------------------"
   ]
  }
 ],
 "metadata": {
  "kernelspec": {
   "display_name": "Julia 1.7.2",
   "language": "julia",
   "name": "julia-1.7"
  },
  "language_info": {
   "file_extension": ".jl",
   "mimetype": "application/julia",
   "name": "julia",
   "version": "1.7.2"
  },
  "orig_nbformat": 4,
  "vscode": {
   "interpreter": {
    "hash": "93154fb6922f4ec00cf695e755af93d1bc36813b77bf10dba3094736dde7a702"
   }
  }
 },
 "nbformat": 4,
 "nbformat_minor": 2
}
