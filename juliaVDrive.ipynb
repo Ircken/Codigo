{
  "cells": [
    {
      "cell_type": "markdown",
      "metadata": {
        "id": "view-in-github",
        "colab_type": "text"
      },
      "source": [
        "<a href=\"https://colab.research.google.com/github/Ircken/Codigo/blob/main/juliaVDrive.ipynb\" target=\"_parent\"><img src=\"https://colab.research.google.com/assets/colab-badge.svg\" alt=\"Open In Colab\"/></a>"
      ]
    },
    {
      "cell_type": "markdown",
      "metadata": {
        "id": "tQ1r1bbb0yBv"
      },
      "source": [
        "#Instalacion"
      ]
    },
    {
      "cell_type": "code",
      "metadata": {
        "id": "GIeFXS0F0zww",
        "colab": {
          "base_uri": "https://localhost:8080/"
        },
        "outputId": "a3c71f75-38ce-49ac-f386-ae069f115676"
      },
      "source": [
        "%%shell\n",
        "set -e\n",
        "\n",
        "#---------------------------------------------------#\n",
        "JULIA_VERSION=\"1.7.1\" # any version ≥ 0.7.0\n",
        "JULIA_PACKAGES=\"IJulia BenchmarkTools Plots\"\n",
        "JULIA_PACKAGES_IF_GPU=\"CUDA\" # or CuArrays for older Julia versions\n",
        "JULIA_NUM_THREADS=2\n",
        "#---------------------------------------------------#\n",
        "\n",
        "if [ -n \"$COLAB_GPU\" ] && [ -z `which julia` ]; then\n",
        "  # Install Julia\n",
        "  JULIA_VER=`cut -d '.' -f -2 <<< \"$JULIA_VERSION\"`\n",
        "  echo \"Installing Julia $JULIA_VERSION on the current Colab Runtime...\"\n",
        "  BASE_URL=\"https://julialang-s3.julialang.org/bin/linux/x64\"\n",
        "  URL=\"$BASE_URL/$JULIA_VER/julia-$JULIA_VERSION-linux-x86_64.tar.gz\"\n",
        "  wget -nv $URL -O /tmp/julia.tar.gz # -nv means \"not verbose\"\n",
        "  tar -x -f /tmp/julia.tar.gz -C /usr/local --strip-components 1\n",
        "  rm /tmp/julia.tar.gz\n",
        "\n",
        "  # Install Packages\n",
        "  if [ \"$COLAB_GPU\" = \"1\" ]; then\n",
        "      JULIA_PACKAGES=\"$JULIA_PACKAGES $JULIA_PACKAGES_IF_GPU\"\n",
        "  fi\n",
        "  for PKG in `echo $JULIA_PACKAGES`; do\n",
        "    echo \"Installing Julia package $PKG...\"\n",
        "    julia -e 'using Pkg; pkg\"add '$PKG'; precompile;\"' &> /dev/null\n",
        "  done\n",
        "\n",
        "  # Install kernel and rename it to \"julia\"\n",
        "  echo \"Installing IJulia kernel...\"\n",
        "  julia -e 'using IJulia; IJulia.installkernel(\"julia\", env=Dict(\n",
        "      \"JULIA_NUM_THREADS\"=>\"'\"$JULIA_NUM_THREADS\"'\"))'\n",
        "  KERNEL_DIR=`julia -e \"using IJulia; print(IJulia.kerneldir())\"`\n",
        "  KERNEL_NAME=`ls -d \"$KERNEL_DIR\"/julia*`\n",
        "  mv -f $KERNEL_NAME \"$KERNEL_DIR\"/julia  \n",
        "\n",
        "  echo ''\n",
        "  echo \"Successfully installed `julia -v`!\"\n",
        "  echo \"Please reload this page (press Ctrl+R, ⌘+R, or the F5 key) then\"\n",
        "  echo \"jump to the 'Checking the Installation' section.\"\n",
        "fi"
      ],
      "execution_count": null,
      "outputs": [
        {
          "output_type": "stream",
          "name": "stdout",
          "text": [
            "Installing Julia 1.7.1 on the current Colab Runtime...\n",
            "2022-06-25 16:53:21 URL:https://storage.googleapis.com/julialang2/bin/linux/x64/1.7/julia-1.7.1-linux-x86_64.tar.gz [123374573/123374573] -> \"/tmp/julia.tar.gz\" [1]\n",
            "Installing Julia package IJulia...\n",
            "Installing Julia package BenchmarkTools...\n",
            "Installing Julia package Plots...\n"
          ]
        }
      ]
    },
    {
      "cell_type": "markdown",
      "metadata": {
        "id": "-OS3Ac017T1i"
      },
      "source": [
        "# Checking the Installation\n",
        "The `versioninfo()` function should print your Julia version and some other info about the system:"
      ]
    },
    {
      "cell_type": "code",
      "metadata": {
        "id": "EEzvvzCl1i0F",
        "colab": {
          "base_uri": "https://localhost:8080/"
        },
        "outputId": "084e1c58-e893-4cce-da8b-e555673d974a"
      },
      "source": [
        "versioninfo()"
      ],
      "execution_count": null,
      "outputs": [
        {
          "output_type": "stream",
          "name": "stdout",
          "text": [
            "Julia Version 1.7.1\n",
            "Commit ac5cc99908 (2021-12-22 19:35 UTC)\n",
            "Platform Info:\n",
            "  OS: Linux (x86_64-pc-linux-gnu)\n",
            "  CPU: Intel(R) Xeon(R) CPU @ 2.30GHz\n",
            "  WORD_SIZE: 64\n",
            "  LIBM: libopenlibm\n",
            "  LLVM: libLLVM-12.0.1 (ORCJIT, haswell)\n",
            "Environment:\n",
            "  JULIA_NUM_THREADS = 2\n"
          ]
        }
      ]
    },
    {
      "cell_type": "code",
      "source": [
        "using BenchmarkTools\n",
        "\n",
        "M = rand(2^11, 2^11)\n",
        "\n",
        "@btime $M * $M;"
      ],
      "metadata": {
        "colab": {
          "base_uri": "https://localhost:8080/"
        },
        "id": "YjM_qq54lCcs",
        "outputId": "26d07c3a-e1fd-418a-92e0-ae260938fbaf"
      },
      "execution_count": null,
      "outputs": [
        {
          "output_type": "stream",
          "name": "stdout",
          "text": [
            "  477.897 ms (2 allocations: 32.00 MiB)\n"
          ]
        }
      ]
    },
    {
      "cell_type": "code",
      "metadata": {
        "id": "XciCcMAJOT3_",
        "colab": {
          "base_uri": "https://localhost:8080/"
        },
        "outputId": "3f403a0e-c036-4e30-de23-d742aea06487"
      },
      "source": [
        "if ENV[\"COLAB_GPU\"] == \"1\"\n",
        "    using CUDA\n",
        "\n",
        "    run(`nvidia-smi`)\n",
        "\n",
        "    # Create a new random matrix directly on the GPU:\n",
        "    M_on_gpu = CUDA.CURAND.rand(2^11, 2^11)\n",
        "    @btime $M_on_gpu * $M_on_gpu; nothing\n",
        "else\n",
        "    println(\"No GPU found.\")\n",
        "end"
      ],
      "execution_count": null,
      "outputs": [
        {
          "output_type": "stream",
          "name": "stdout",
          "text": [
            "Sun Jan  9 02:26:33 2022       \n",
            "+-----------------------------------------------------------------------------+\n",
            "| NVIDIA-SMI 495.44       Driver Version: 460.32.03    CUDA Version: 11.2     |\n",
            "|-------------------------------+----------------------+----------------------+\n",
            "| GPU  Name        Persistence-M| Bus-Id        Disp.A | Volatile Uncorr. ECC |\n",
            "| Fan  Temp  Perf  Pwr:Usage/Cap|         Memory-Usage | GPU-Util  Compute M. |\n",
            "|                               |                      |               MIG M. |\n",
            "|===============================+======================+======================|\n",
            "|   0  Tesla K80           Off  | 00000000:00:04.0 Off |                    0 |\n",
            "| N/A   34C    P8    28W / 149W |      0MiB / 11441MiB |      0%      Default |\n",
            "|                               |                      |                  N/A |\n",
            "+-------------------------------+----------------------+----------------------+\n",
            "                                                                               \n",
            "+-----------------------------------------------------------------------------+\n",
            "| Processes:                                                                  |\n",
            "|  GPU   GI   CI        PID   Type   Process name                  GPU Memory |\n",
            "|        ID   ID                                                   Usage      |\n",
            "|=============================================================================|\n",
            "|  No running processes found                                                 |\n",
            "+-----------------------------------------------------------------------------+\n",
            "  473.438 ms (2 allocations: 32.00 MiB)\n"
          ]
        }
      ]
    },
    {
      "cell_type": "markdown",
      "source": [
        "# Codigo"
      ],
      "metadata": {
        "id": "fbERDp6Tumt5"
      }
    },
    {
      "cell_type": "code",
      "execution_count": 2,
      "metadata": {
        "id": "b5t-0RvFfsbn",
        "colab": {
          "base_uri": "https://localhost:8080/"
        },
        "outputId": "d7c983fe-a773-46ee-852b-41819b4a30a4"
      },
      "outputs": [
        {
          "output_type": "stream",
          "name": "stderr",
          "text": [
            "\u001b[32m\u001b[1m    Updating\u001b[22m\u001b[39m registry at `~/.julia/registries/General.toml`\n",
            "\u001b[32m\u001b[1m   Resolving\u001b[22m\u001b[39m package versions...\n",
            "\u001b[32m\u001b[1m   Installed\u001b[22m\u001b[39m Formatting ────────────────── v0.4.2\n",
            "\u001b[32m\u001b[1m   Installed\u001b[22m\u001b[39m IteratorInterfaceExtensions ─ v1.0.0\n",
            "\u001b[32m\u001b[1m   Installed\u001b[22m\u001b[39m DataAPI ───────────────────── v1.10.0\n",
            "\u001b[32m\u001b[1m   Installed\u001b[22m\u001b[39m Crayons ───────────────────── v4.1.1\n",
            "\u001b[32m\u001b[1m   Installed\u001b[22m\u001b[39m PooledArrays ──────────────── v1.4.2\n",
            "\u001b[32m\u001b[1m   Installed\u001b[22m\u001b[39m Tables ────────────────────── v1.7.0\n",
            "\u001b[32m\u001b[1m   Installed\u001b[22m\u001b[39m TableTraits ───────────────── v1.0.1\n",
            "\u001b[32m\u001b[1m   Installed\u001b[22m\u001b[39m DataValueInterfaces ───────── v1.0.0\n",
            "\u001b[32m\u001b[1m   Installed\u001b[22m\u001b[39m InvertedIndices ───────────── v1.1.0\n",
            "\u001b[32m\u001b[1m   Installed\u001b[22m\u001b[39m Reexport ──────────────────── v1.2.2\n",
            "\u001b[32m\u001b[1m   Installed\u001b[22m\u001b[39m Compat ────────────────────── v3.45.0\n",
            "\u001b[32m\u001b[1m   Installed\u001b[22m\u001b[39m OrderedCollections ────────── v1.4.1\n",
            "\u001b[32m\u001b[1m   Installed\u001b[22m\u001b[39m DataStructures ────────────── v0.18.13\n",
            "\u001b[32m\u001b[1m   Installed\u001b[22m\u001b[39m DataFrames ────────────────── v1.3.4\n",
            "\u001b[32m\u001b[1m   Installed\u001b[22m\u001b[39m PrettyTables ──────────────── v1.3.1\n",
            "\u001b[32m\u001b[1m   Installed\u001b[22m\u001b[39m SortingAlgorithms ─────────── v1.0.1\n",
            "\u001b[32m\u001b[1m   Installed\u001b[22m\u001b[39m Missings ──────────────────── v1.0.2\n",
            "\u001b[32m\u001b[1m    Updating\u001b[22m\u001b[39m `~/.julia/environments/v1.7/Project.toml`\n",
            " \u001b[90m [a93c6f00] \u001b[39m\u001b[92m+ DataFrames v1.3.4\u001b[39m\n",
            "\u001b[32m\u001b[1m    Updating\u001b[22m\u001b[39m `~/.julia/environments/v1.7/Manifest.toml`\n",
            " \u001b[90m [34da2185] \u001b[39m\u001b[92m+ Compat v3.45.0\u001b[39m\n",
            " \u001b[90m [a8cc5b0e] \u001b[39m\u001b[92m+ Crayons v4.1.1\u001b[39m\n",
            " \u001b[90m [9a962f9c] \u001b[39m\u001b[92m+ DataAPI v1.10.0\u001b[39m\n",
            " \u001b[90m [a93c6f00] \u001b[39m\u001b[92m+ DataFrames v1.3.4\u001b[39m\n",
            " \u001b[90m [864edb3b] \u001b[39m\u001b[92m+ DataStructures v0.18.13\u001b[39m\n",
            " \u001b[90m [e2d170a0] \u001b[39m\u001b[92m+ DataValueInterfaces v1.0.0\u001b[39m\n",
            " \u001b[90m [59287772] \u001b[39m\u001b[92m+ Formatting v0.4.2\u001b[39m\n",
            " \u001b[90m [41ab1584] \u001b[39m\u001b[92m+ InvertedIndices v1.1.0\u001b[39m\n",
            " \u001b[90m [82899510] \u001b[39m\u001b[92m+ IteratorInterfaceExtensions v1.0.0\u001b[39m\n",
            " \u001b[90m [e1d29d7a] \u001b[39m\u001b[92m+ Missings v1.0.2\u001b[39m\n",
            " \u001b[90m [bac558e1] \u001b[39m\u001b[92m+ OrderedCollections v1.4.1\u001b[39m\n",
            " \u001b[90m [2dfb63ee] \u001b[39m\u001b[92m+ PooledArrays v1.4.2\u001b[39m\n",
            " \u001b[90m [08abe8d2] \u001b[39m\u001b[92m+ PrettyTables v1.3.1\u001b[39m\n",
            " \u001b[90m [189a3867] \u001b[39m\u001b[92m+ Reexport v1.2.2\u001b[39m\n",
            " \u001b[90m [a2af1166] \u001b[39m\u001b[92m+ SortingAlgorithms v1.0.1\u001b[39m\n",
            " \u001b[90m [3783bdb8] \u001b[39m\u001b[92m+ TableTraits v1.0.1\u001b[39m\n",
            " \u001b[90m [bd369af6] \u001b[39m\u001b[92m+ Tables v1.7.0\u001b[39m\n",
            " \u001b[90m [8bb1440f] \u001b[39m\u001b[92m+ DelimitedFiles\u001b[39m\n",
            " \u001b[90m [8ba89e20] \u001b[39m\u001b[92m+ Distributed\u001b[39m\n",
            " \u001b[90m [9fa8497b] \u001b[39m\u001b[92m+ Future\u001b[39m\n",
            " \u001b[90m [37e2e46d] \u001b[39m\u001b[92m+ LinearAlgebra\u001b[39m\n",
            " \u001b[90m [1a1011a3] \u001b[39m\u001b[92m+ SharedArrays\u001b[39m\n",
            " \u001b[90m [2f01184e] \u001b[39m\u001b[92m+ SparseArrays\u001b[39m\n",
            " \u001b[90m [10745b16] \u001b[39m\u001b[92m+ Statistics\u001b[39m\n",
            " \u001b[90m [e66e0078] \u001b[39m\u001b[92m+ CompilerSupportLibraries_jll\u001b[39m\n",
            " \u001b[90m [4536629a] \u001b[39m\u001b[92m+ OpenBLAS_jll\u001b[39m\n",
            " \u001b[90m [8e850b90] \u001b[39m\u001b[92m+ libblastrampoline_jll\u001b[39m\n",
            "\u001b[32m\u001b[1mPrecompiling\u001b[22m\u001b[39m project...\n",
            "\u001b[32m  ✓ \u001b[39m\u001b[90mDataValueInterfaces\u001b[39m\n",
            "\u001b[32m  ✓ \u001b[39m\u001b[90mIteratorInterfaceExtensions\u001b[39m\n",
            "\u001b[32m  ✓ \u001b[39m\u001b[90mFormatting\u001b[39m\n",
            "\u001b[32m  ✓ \u001b[39m\u001b[90mDataAPI\u001b[39m\n",
            "\u001b[32m  ✓ \u001b[39m\u001b[90mInvertedIndices\u001b[39m\n",
            "\u001b[32m  ✓ \u001b[39m\u001b[90mCompilerSupportLibraries_jll\u001b[39m\n",
            "\u001b[32m  ✓ \u001b[39m\u001b[90mCompat\u001b[39m\n",
            "\u001b[32m  ✓ \u001b[39m\u001b[90mReexport\u001b[39m\n",
            "\u001b[32m  ✓ \u001b[39m\u001b[90mOrderedCollections\u001b[39m\n",
            "\u001b[32m  ✓ \u001b[39m\u001b[90mTableTraits\u001b[39m\n",
            "\u001b[32m  ✓ \u001b[39m\u001b[90mPooledArrays\u001b[39m\n",
            "\u001b[32m  ✓ \u001b[39m\u001b[90mCrayons\u001b[39m\n",
            "\u001b[32m  ✓ \u001b[39m\u001b[90mMissings\u001b[39m\n",
            "\u001b[32m  ✓ \u001b[39m\u001b[90mOpenBLAS_jll\u001b[39m\n",
            "\u001b[32m  ✓ \u001b[39m\u001b[90mlibblastrampoline_jll\u001b[39m\n",
            "\u001b[32m  ✓ \u001b[39m\u001b[90mTables\u001b[39m\n",
            "\u001b[32m  ✓ \u001b[39m\u001b[90mDataStructures\u001b[39m\n",
            "\u001b[32m  ✓ \u001b[39m\u001b[90mSortingAlgorithms\u001b[39m\n",
            "\u001b[32m  ✓ \u001b[39m\u001b[90mPrettyTables\u001b[39m\n",
            "\u001b[32m  ✓ \u001b[39mDataFrames\n",
            "  20 dependencies successfully precompiled in 40 seconds (15 already precompiled)\n",
            "\u001b[32m\u001b[1m   Resolving\u001b[22m\u001b[39m package versions...\n",
            "\u001b[32m\u001b[1m    Updating\u001b[22m\u001b[39m `~/.julia/environments/v1.7/Project.toml`\n",
            " \u001b[90m [10745b16] \u001b[39m\u001b[92m+ Statistics\u001b[39m\n",
            "\u001b[32m\u001b[1m  No Changes\u001b[22m\u001b[39m to `~/.julia/environments/v1.7/Manifest.toml`\n",
            "\u001b[32m\u001b[1m   Resolving\u001b[22m\u001b[39m package versions...\n",
            "\u001b[32m\u001b[1m   Installed\u001b[22m\u001b[39m CodecZlib ────────── v0.7.0\n",
            "\u001b[32m\u001b[1m   Installed\u001b[22m\u001b[39m WeakRefStrings ───── v1.4.2\n",
            "\u001b[32m\u001b[1m   Installed\u001b[22m\u001b[39m InlineStrings ────── v1.1.2\n",
            "\u001b[32m\u001b[1m   Installed\u001b[22m\u001b[39m SentinelArrays ───── v1.3.13\n",
            "\u001b[32m\u001b[1m   Installed\u001b[22m\u001b[39m FilePathsBase ────── v0.9.18\n",
            "\u001b[32m\u001b[1m   Installed\u001b[22m\u001b[39m TranscodingStreams ─ v0.9.6\n",
            "\u001b[32m\u001b[1m   Installed\u001b[22m\u001b[39m CSV ──────────────── v0.10.4\n",
            "\u001b[32m\u001b[1m    Updating\u001b[22m\u001b[39m `~/.julia/environments/v1.7/Project.toml`\n",
            " \u001b[90m [336ed68f] \u001b[39m\u001b[92m+ CSV v0.10.4\u001b[39m\n",
            "\u001b[32m\u001b[1m    Updating\u001b[22m\u001b[39m `~/.julia/environments/v1.7/Manifest.toml`\n",
            " \u001b[90m [336ed68f] \u001b[39m\u001b[92m+ CSV v0.10.4\u001b[39m\n",
            " \u001b[90m [944b1d66] \u001b[39m\u001b[92m+ CodecZlib v0.7.0\u001b[39m\n",
            " \u001b[90m [48062228] \u001b[39m\u001b[92m+ FilePathsBase v0.9.18\u001b[39m\n",
            " \u001b[90m [842dd82b] \u001b[39m\u001b[92m+ InlineStrings v1.1.2\u001b[39m\n",
            " \u001b[90m [91c51154] \u001b[39m\u001b[92m+ SentinelArrays v1.3.13\u001b[39m\n",
            " \u001b[90m [3bb67fe8] \u001b[39m\u001b[92m+ TranscodingStreams v0.9.6\u001b[39m\n",
            " \u001b[90m [ea10d353] \u001b[39m\u001b[92m+ WeakRefStrings v1.4.2\u001b[39m\n",
            "\u001b[32m\u001b[1mPrecompiling\u001b[22m\u001b[39m project...\n",
            "\u001b[32m  ✓ \u001b[39m\u001b[90mTranscodingStreams\u001b[39m\n",
            "\u001b[32m  ✓ \u001b[39m\u001b[90mFilePathsBase\u001b[39m\n",
            "\u001b[32m  ✓ \u001b[39m\u001b[90mSentinelArrays\u001b[39m\n",
            "\u001b[32m  ✓ \u001b[39m\u001b[90mInlineStrings\u001b[39m\n",
            "\u001b[32m  ✓ \u001b[39m\u001b[90mCodecZlib\u001b[39m\n",
            "\u001b[32m  ✓ \u001b[39m\u001b[90mWeakRefStrings\u001b[39m\n",
            "\u001b[32m  ✓ \u001b[39mCSV\n",
            "  7 dependencies successfully precompiled in 13 seconds (35 already precompiled)\n",
            "\u001b[32m\u001b[1m   Resolving\u001b[22m\u001b[39m package versions...\n",
            "\u001b[32m\u001b[1m   Installed\u001b[22m\u001b[39m Suppressor ─ v0.2.1\n",
            "\u001b[32m\u001b[1m    Updating\u001b[22m\u001b[39m `~/.julia/environments/v1.7/Project.toml`\n",
            " \u001b[90m [fd094767] \u001b[39m\u001b[92m+ Suppressor v0.2.1\u001b[39m\n",
            "\u001b[32m\u001b[1m    Updating\u001b[22m\u001b[39m `~/.julia/environments/v1.7/Manifest.toml`\n",
            " \u001b[90m [fd094767] \u001b[39m\u001b[92m+ Suppressor v0.2.1\u001b[39m\n",
            "\u001b[32m\u001b[1mPrecompiling\u001b[22m\u001b[39m project...\n",
            "\u001b[32m  ✓ \u001b[39mSuppressor\n",
            "  1 dependency successfully precompiled in 0 seconds (42 already precompiled)\n",
            "\u001b[32m\u001b[1m   Resolving\u001b[22m\u001b[39m package versions...\n",
            "\u001b[32m\u001b[1m    Updating\u001b[22m\u001b[39m `~/.julia/environments/v1.7/Project.toml`\n",
            " \u001b[90m [ade2ca70] \u001b[39m\u001b[92m+ Dates\u001b[39m\n",
            "\u001b[32m\u001b[1m  No Changes\u001b[22m\u001b[39m to `~/.julia/environments/v1.7/Manifest.toml`\n"
          ]
        },
        {
          "output_type": "execute_result",
          "data": {
            "text/plain": [
              "\"\""
            ]
          },
          "metadata": {},
          "execution_count": 2
        }
      ],
      "source": [
        "import Pkg; Pkg.add(\"DataFrames\")\n",
        "import Pkg; Pkg.add(\"Statistics\")\n",
        "import Pkg; Pkg.add(\"CSV\")\n",
        "import Pkg; Pkg.add(\"Suppressor\")\n",
        "import Pkg; Pkg.add(\"Dates\")\n",
        "\"\""
      ]
    },
    {
      "cell_type": "code",
      "execution_count": null,
      "metadata": {
        "id": "noZ2lYc2elfz"
      },
      "outputs": [],
      "source": [
        "using DataFrames\n",
        "using Statistics\n",
        "using CSV\n",
        "using Suppressor\n",
        "using Dates"
      ]
    },
    {
      "cell_type": "code",
      "execution_count": null,
      "metadata": {
        "id": "te9sOHtGelgE",
        "colab": {
          "base_uri": "https://localhost:8080/"
        },
        "outputId": "06e091ed-af3d-4fc8-fa87-7a9eb77faef3"
      },
      "outputs": [
        {
          "output_type": "execute_result",
          "data": {
            "text/plain": [
              "inicializar (generic function with 1 method)"
            ]
          },
          "metadata": {},
          "execution_count": 33
        }
      ],
      "source": [
        "function inicializar()\n",
        "    out = DataFrame(Hora = String[], kWhcount = Float64[], count = Int64[])\n",
        "    rename!(out, [:\"Hora\", :\"kWh*count\", :\"count\"])\n",
        "\n",
        "    for i in 0:23\n",
        "        for j in 0:3\n",
        "            append!(out[!, \"Hora\"],[hora(i, j)])\n",
        "            append!(out[!, \"kWh*count\"],[0.0])\n",
        "            append!(out[!, \"count\"],[0])\n",
        "        end\n",
        "    end    \n",
        "    \n",
        "    return out\n",
        "end"
      ]
    },
    {
      "cell_type": "code",
      "execution_count": null,
      "metadata": {
        "id": "9xgMRQeUelgG",
        "colab": {
          "base_uri": "https://localhost:8080/"
        },
        "outputId": "1cfbcaee-af16-4a62-fae6-35622f2df732"
      },
      "outputs": [
        {
          "output_type": "execute_result",
          "data": {
            "text/plain": [
              "hora (generic function with 1 method)"
            ]
          },
          "metadata": {},
          "execution_count": 34
        }
      ],
      "source": [
        "function hora(i, j)      \n",
        "    if i != 0\n",
        "        if i < 10\n",
        "            h = \"0\" * string(i)\n",
        "        else\n",
        "            h = string(i)\n",
        "        end\n",
        "    else\n",
        "        h = \"00\"  \n",
        "    end   \n",
        "\n",
        "    if j != 0\n",
        "        m = string(j*15)\n",
        "    else\n",
        "        m = \"00\"    \n",
        "    end   \n",
        "    \n",
        "    return h * \":\" * m * \":\" * \"00\"\n",
        "end"
      ]
    },
    {
      "cell_type": "code",
      "execution_count": null,
      "metadata": {
        "id": "26HJeKVuelgJ",
        "colab": {
          "base_uri": "https://localhost:8080/"
        },
        "outputId": "6955f68f-908e-424f-cff7-164ac59ba7a0"
      },
      "outputs": [
        {
          "output_type": "execute_result",
          "data": {
            "text/plain": [
              "sumar_columnas (generic function with 1 method)"
            ]
          },
          "metadata": {},
          "execution_count": 35
        }
      ],
      "source": [
        "function sumar_columnas(out, df)\n",
        "    \n",
        "    if !(isempty(out)) || !(isempty(df))\n",
        "            out[!, 2] .= out[!, 2] + df[!, 2]\n",
        "            out[!, 3] .= out[!, 3] + df[!, 3]\n",
        "        return out\n",
        "    end\n",
        "    \n",
        "end"
      ]
    },
    {
      "cell_type": "code",
      "execution_count": null,
      "metadata": {
        "id": "P_oy6JEzelgK",
        "colab": {
          "base_uri": "https://localhost:8080/"
        },
        "outputId": "f47e7677-87ec-4883-f6af-34db9f0621d0"
      },
      "outputs": [
        {
          "output_type": "execute_result",
          "data": {
            "text/plain": [
              "df_por_tarifa (generic function with 1 method)"
            ]
          },
          "metadata": {},
          "execution_count": 36
        }
      ],
      "source": [
        "function df_por_tarifa(df)\n",
        "\n",
        "    aux = DataFrame()\n",
        "    out = DataFrame(Hora = String[], kWhcount = Float64[], count = Int64[])\n",
        "    rename!(out, [:\"Hora\", :\"kWh*count\", :\"count\"])\n",
        "\n",
        "    for i in 0:23\n",
        "        for j in 0:3\n",
        "            horario = hora(i, j)\n",
        "            aux = filter(:\"Hora\" => n -> n == horario, df)\n",
        "\n",
        "            kWh = mean(aux[!, 2])\n",
        "            count = length(aux[!, 2])\n",
        "            prod = kWh*count\n",
        "\n",
        "            #push!(aux, [horario prod count])\n",
        "            append!(out[!, \"Hora\"],[horario])\n",
        "            append!(out[!, \"kWh*count\"],[prod])\n",
        "            append!(out[!, \"count\"],[count])        \n",
        "        end\n",
        "    end\n",
        "    return out\n",
        "    \n",
        "end"
      ]
    },
    {
      "cell_type": "code",
      "execution_count": null,
      "metadata": {
        "id": "a_g5nq7JelgL",
        "colab": {
          "base_uri": "https://localhost:8080/"
        },
        "outputId": "9767e6c6-daa7-4b5a-a8a4-4bb15360ff4f"
      },
      "outputs": [
        {
          "output_type": "execute_result",
          "data": {
            "text/plain": [
              "t_n_f_index (generic function with 1 method)"
            ]
          },
          "metadata": {},
          "execution_count": 37
        }
      ],
      "source": [
        "# obtener tarifa\n",
        "function t_n_f_index(archivo)\n",
        "\n",
        "    open(archivo, \"r\") do f\n",
        "        lines = readlines(f)\n",
        "\n",
        "        tariff_index = findfirst(t -> occursin(\"Servicio:\", t), lines) # indices de tarifa y fecha\n",
        "                             \n",
        "        # obtener tipo de tarifa\n",
        "        tariff_vector = split(lines[tariff_index], \";\")\n",
        "        filter!(x -> x != \" \", tariff_vector) # eliminar espacio vacio \n",
        "        filter!(x -> x != \"\", tariff_vector) # eliminar espacio vacio \n",
        "        if occursin(\"Medicion:\", tariff_vector[2])\n",
        "            tariff_vector[2] = \"Medicion:\"\n",
        "        end\n",
        "        \n",
        "        # tarifa e indice de fecha\n",
        "        return tariff_vector[2]\n",
        "    end\n",
        "    \n",
        "end"
      ]
    },
    {
      "cell_type": "code",
      "execution_count": null,
      "metadata": {
        "id": "z8ZuEvBIelgM",
        "colab": {
          "base_uri": "https://localhost:8080/"
        },
        "outputId": "d1dd8e76-8075-4ccc-bc34-a1980593f9ff"
      },
      "outputs": [
        {
          "output_type": "execute_result",
          "data": {
            "text/plain": [
              "limpiarTexto (generic function with 1 method)"
            ]
          },
          "metadata": {},
          "execution_count": 38
        }
      ],
      "source": [
        "function limpiarTexto(f)\n",
        "\n",
        "    lines = readlines(f)\n",
        "    fecha_in = findfirst(t -> occursin(\"Fecha\", t), lines)\n",
        "    lines[end] = \"\" # eliminar ultima linea\n",
        "    # si existe esa esctructura eliminarla\n",
        "    if lines[end - 1] == \";;;;;;;;;;;;;;;;\"\n",
        "        lines[end - 1] = \"\" \n",
        "    end\n",
        "\n",
        "    lines = lines[fecha_in: end] # obtener solo las lineas a partir de la fecha\n",
        "    lines[1] = replace(lines[1], \"\\xe1\" => \"\") # sustituir caracteres especiales  \n",
        "    string = join(lines, \"\\n\") # vector a string para leerlo como csv\n",
        "    string = replace(string, \";;\" => \";\") # eliminar duplicados\n",
        "    return string\n",
        "    \n",
        "end"
      ]
    },
    {
      "cell_type": "code",
      "execution_count": null,
      "metadata": {
        "id": "SUEAhbPgelgS",
        "colab": {
          "base_uri": "https://localhost:8080/"
        },
        "outputId": "e3e27390-473b-4be7-f216-98569329c18d"
      },
      "outputs": [
        {
          "output_type": "execute_result",
          "data": {
            "text/plain": [
              "primeraLimpiezaDF (generic function with 1 method)"
            ]
          },
          "metadata": {},
          "execution_count": 39
        }
      ],
      "source": [
        "function primeraLimpiezaDF(df)\n",
        "    \n",
        "    # renombrar \"Fecha hora\" a \"Fecha Hora\"\n",
        "    if \"Fecha hora\" in names(df)\n",
        "        rename!(df, \"Fecha hora\" => \"Fecha Hora\")\n",
        "    end\n",
        "    select!(df, \"Fecha Hora\", \"kWh\") # eliminar las columnas no utiles\n",
        "    dropmissing!(df, \"Fecha Hora\") # eliminar los missing\n",
        "    dropmissing!(df, \"kWh\") # eliminar los missing\n",
        "    \n",
        "    return df\n",
        "end"
      ]
    },
    {
      "cell_type": "code",
      "execution_count": null,
      "metadata": {
        "id": "WKpOnzV9elgT",
        "colab": {
          "base_uri": "https://localhost:8080/"
        },
        "outputId": "5499252d-6a83-4274-db92-5b4f9b8248be"
      },
      "outputs": [
        {
          "output_type": "execute_result",
          "data": {
            "text/plain": [
              "segundaLimpiezaDF (generic function with 1 method)"
            ]
          },
          "metadata": {},
          "execution_count": 40
        }
      ],
      "source": [
        "function segundaLimpiezaDF(df)\n",
        "    \n",
        "    df[!,2] .= replace.(df[!,2], \",\" => \".\") # coma a punto\n",
        "    df[!,2] .= parse.(Float64, df[!,2]) # string a float\n",
        "\n",
        "    transform!(df, :\"Fecha Hora\" => ByRow(x -> split(x, ' ')) => [:\"Fecha\", :\"Hora\"]) # separar fecha y hora\n",
        "    df = df[:, [2, 4]] # dejar las columnas Fecha y Fecha Hora\n",
        "    df[!, 1], df[!, 2] = df[!, 2], df[!, 1] # cambiar valores de las columnas\n",
        "    rename!(df, [:\"Hora\", :\"kWh\"]) # renombrar columnas\n",
        "    \n",
        "    return df\n",
        "end"
      ]
    },
    {
      "cell_type": "code",
      "source": [
        "carpeta = \"procesar\"\n",
        "if !isdir(carpeta)\n",
        "    mkdir(carpeta)\n",
        "end"
      ],
      "metadata": {
        "colab": {
          "base_uri": "https://localhost:8080/"
        },
        "id": "00UA85AoKTOU",
        "outputId": "09422d93-3e98-4e61-e3dd-96d4364ffcaa"
      },
      "execution_count": null,
      "outputs": [
        {
          "output_type": "execute_result",
          "data": {
            "text/plain": [
              "\"procesar\""
            ]
          },
          "metadata": {},
          "execution_count": 41
        }
      ]
    },
    {
      "cell_type": "code",
      "execution_count": null,
      "metadata": {
        "id": "sTJt8BWoelgU"
      },
      "outputs": [],
      "source": [
        "# obtener ubicacion de todos los archivos\n",
        "archivos = Vector{String}()\n",
        "# recorrer cada carpeta dentro de \"carpeta\"\n",
        "for folder in readdir(carpeta)\n",
        "    \n",
        "    # recorrer cada archivo dentro de la carpeta dentro de \"folder\"\n",
        "    for file in readdir(carpeta * \"/\" *folder)\n",
        "        push!(archivos, \"$carpeta/$folder/$file\")\n",
        "    end\n",
        "    \n",
        "end"
      ]
    },
    {
      "cell_type": "code",
      "execution_count": null,
      "metadata": {
        "id": "3tCUcKQxhIt3",
        "colab": {
          "base_uri": "https://localhost:8080/"
        },
        "outputId": "f24c32a8-731e-49df-db1a-c441085a8a0f"
      },
      "outputs": [
        {
          "output_type": "stream",
          "name": "stdout",
          "text": [
            "0\n"
          ]
        }
      ],
      "source": [
        "println(length(archivos))"
      ]
    },
    {
      "cell_type": "code",
      "execution_count": null,
      "metadata": {
        "id": "uk3eNEprelgV"
      },
      "outputs": [],
      "source": [
        "# obtener vectores de tarifa e indice de fecha\n",
        "tariff = Vector{String}()\n",
        "\n",
        "for i in 1:length(archivos)\n",
        "\n",
        "    archivo = archivos[i] # ORDEN DE LECTURA\n",
        "    aux = t_n_f_index(archivo)\n",
        "    # guardar tarifa e indice de fecha\n",
        "    push!(tariff, aux)\n",
        "\n",
        "end"
      ]
    },
    {
      "cell_type": "code",
      "execution_count": null,
      "metadata": {
        "id": "-JQm1xH3elgV"
      },
      "outputs": [],
      "source": [
        "tariff_set_list = collect(Set(tariff)) # lista de valores unicos\n",
        "for i in tariff_set_list\n",
        "    println(\"$i -> \", count(==(i), tariff))\n",
        "end"
      ]
    },
    {
      "cell_type": "code",
      "execution_count": null,
      "metadata": {
        "id": "M3Bgo78EelgW",
        "colab": {
          "base_uri": "https://localhost:8080/"
        },
        "outputId": "9368d525-355b-45c6-d252-15b024884651"
      },
      "outputs": [
        {
          "output_type": "stream",
          "name": "stdout",
          "text": [
            "0\n"
          ]
        },
        {
          "output_type": "execute_result",
          "data": {
            "text/plain": [
              "\"\""
            ]
          },
          "metadata": {},
          "execution_count": 46
        }
      ],
      "source": [
        "arch = findall(x -> occursin(\"Medicion:\", x) , tariff)\n",
        "cant_archivos = length(arch)\n",
        "println(cant_archivos)\n",
        "#println(arch[1:cant_archivos]) \n",
        "\"\""
      ]
    },
    {
      "cell_type": "code",
      "execution_count": null,
      "metadata": {
        "id": "_CXexYLo3mYA",
        "colab": {
          "base_uri": "https://localhost:8080/"
        },
        "outputId": "4021a13b-4479-43c4-b5ad-837f064744aa"
      },
      "outputs": [
        {
          "output_type": "execute_result",
          "data": {
            "text/plain": [
              "\"excel_out\""
            ]
          },
          "metadata": {},
          "execution_count": 47
        }
      ],
      "source": [
        "# definir carpeta de salida\n",
        "carpeta_salida = \"excel_out\"\n",
        "if !isdir(carpeta_salida)\n",
        "    mkdir(carpeta_salida)\n",
        "end"
      ]
    },
    {
      "cell_type": "code",
      "execution_count": null,
      "metadata": {
        "id": "PwIm7q314m0N",
        "colab": {
          "base_uri": "https://localhost:8080/"
        },
        "outputId": "f32b2ae7-fd7f-42de-ab54-13f858da2b47"
      },
      "outputs": [
        {
          "output_type": "execute_result",
          "data": {
            "text/plain": [
              "\"\""
            ]
          },
          "metadata": {},
          "execution_count": 48
        }
      ],
      "source": [
        "# definir tiempo de salida\n",
        "t = Dates.now() \n",
        "formatoTiempo = \"$(Dates.hour(t))h$(Dates.second(t))m$(Dates.minute(t))s_$(Dates.Date(t))\"\n",
        "\"\""
      ]
    },
    {
      "cell_type": "code",
      "execution_count": null,
      "metadata": {
        "id": "ZbP-nDDselgW",
        "colab": {
          "base_uri": "https://localhost:8080/"
        },
        "outputId": "40674a05-7029-4b0d-e7f7-cf904f72c781"
      },
      "outputs": [
        {
          "output_type": "execute_result",
          "data": {
            "text/plain": [
              "\"\""
            ]
          },
          "metadata": {},
          "execution_count": 49
        }
      ],
      "source": [
        "# para cada tarifa\n",
        "# recorrer elementos unicos de tarifa\n",
        "@suppress begin\n",
        "    for i in 1:length(tariff_set_list)\n",
        "        \n",
        "        global contador = 0\n",
        "        # se opera sobre cada coincidencia de tarifa\n",
        "        # sin procesar \"Medicion:\"\n",
        "        if occursin(\"Medicion:\", tariff_set_list[i]) != true\n",
        "            global out = inicializar() # inicializar un df generico\n",
        "            posicion_tarifas = findall(x -> x == tariff_set_list[i] , tariff) # posiciones de tarifa    \n",
        "\n",
        "            # recorrer cada archivo de cada tarifa\n",
        "            for indice_tarifa in posicion_tarifas\n",
        "                archivo = archivos[indice_tarifa] # archivo con ese indice de tarifa\n",
        "                \n",
        "                    # abrir archivo\n",
        "                    open(archivo, \"r\") do f\n",
        "\n",
        "                        string = limpiarTexto(f) # preparar texto para df\n",
        "                        df = CSV.read(IOBuffer(string), DataFrame; delim = \";\", header = true) # string a csv                    \n",
        "                        df = primeraLimpiezaDF(df)\n",
        "\n",
        "                        if length(df[!, 1]) > 0\n",
        "                            \n",
        "                            global contador += 1\n",
        "                            df = segundaLimpiezaDF(df)\n",
        "                            df_out = df_por_tarifa(df) # df de solo 24h*(60min/1h)/15min = 96\n",
        "\n",
        "                            # limpiar NaN\n",
        "                            for col in eachcol(df_out)\n",
        "                                replace!(col, NaN => 0.0)\n",
        "                            end    \n",
        "\n",
        "                            out = sumar_columnas(df_out, out) # sumar df especifico\n",
        "                        \n",
        "                        end \n",
        "                    end\n",
        "            end\n",
        "            nombre = \"$(tariff_set_list[i])-$contador-$formatoTiempo\" \n",
        "            CSV.write(\"$carpeta_salida/$nombre.csv\", out) # guardar df por tarifa\n",
        "        end\n",
        "    end\n",
        "end\n",
        "\"\""
      ]
    },
    {
      "cell_type": "markdown",
      "metadata": {
        "id": "i60ANT5Pelga"
      },
      "source": [
        "---------------------------------------------------------------------------------------------------------------------------------------------------"
      ]
    }
  ],
  "metadata": {
    "colab": {
      "collapsed_sections": [
        "tQ1r1bbb0yBv",
        "-OS3Ac017T1i",
        "fbERDp6Tumt5"
      ],
      "name": "juliaVDrive.ipynb",
      "provenance": [],
      "toc_visible": true,
      "include_colab_link": true
    },
    "kernelspec": {
      "display_name": "Julia 1.7.2",
      "language": "julia",
      "name": "julia-1.7"
    },
    "language_info": {
      "file_extension": ".jl",
      "mimetype": "application/julia",
      "name": "julia",
      "version": "1.7.2"
    },
    "vscode": {
      "interpreter": {
        "hash": "93154fb6922f4ec00cf695e755af93d1bc36813b77bf10dba3094736dde7a702"
      }
    }
  },
  "nbformat": 4,
  "nbformat_minor": 0
}