{
  "cells": [
    {
      "cell_type": "markdown",
      "metadata": {
        "id": "view-in-github",
        "colab_type": "text"
      },
      "source": [
        "<a href=\"https://colab.research.google.com/github/Ircken/Codigo/blob/main/juliaVDrive.ipynb\" target=\"_parent\"><img src=\"https://colab.research.google.com/assets/colab-badge.svg\" alt=\"Open In Colab\"/></a>"
      ]
    },
    {
      "cell_type": "code",
      "execution_count": null,
      "metadata": {
        "id": "i7jgplQdeoBW",
        "colab": {
          "base_uri": "https://localhost:8080/",
          "height": 87
        },
        "outputId": "43b54488-2972-4fdd-df53-4c565a025557"
      },
      "outputs": [
        {
          "output_type": "display_data",
          "data": {
            "text/plain": [
              "  Unrecognized magic \u001b[36m%%capture\u001b[39m.\n",
              "\n",
              "  Julia does not use the IPython \u001b[36m%magic\u001b[39m syntax. To interact with the IJulia\n",
              "  kernel, use \u001b[36mIJulia.somefunction(...)\u001b[39m, for example. Julia macros, string\n",
              "  macros, and functions can be used to accomplish most of the other\n",
              "  functionalities of IPython magics."
            ],
            "text/markdown": "Unrecognized magic `%%capture`.\n\nJulia does not use the IPython `%magic` syntax.   To interact with the IJulia kernel, use `IJulia.somefunction(...)`, for example.  Julia macros, string macros, and functions can be used to accomplish most of the other functionalities of IPython magics.\n",
            "text/latex": "Unrecognized magic \\texttt{\\%\\%capture}.\n\nJulia does not use the IPython \\texttt{\\%magic} syntax.   To interact with the IJulia kernel, use \\texttt{IJulia.somefunction(...)}, for example.  Julia macros, string macros, and functions can be used to accomplish most of the other functionalities of IPython magics.\n\n"
          },
          "metadata": {}
        }
      ],
      "source": [
        "# Installation cell\n",
        "%%capture\n",
        "%%shell\n",
        "if ! command -v julia 3>&1 > /dev/null\n",
        "then\n",
        "    wget -q 'https://julialang-s3.julialang.org/bin/linux/x64/1.7/julia-1.7.2-linux-x86_64.tar.gz' \\\n",
        "        -O /tmp/julia.tar.gz\n",
        "    tar -x -f /tmp/julia.tar.gz -C /usr/local --strip-components 1\n",
        "    rm /tmp/julia.tar.gz\n",
        "fi\n",
        "julia -e 'using Pkg; pkg\"add IJulia; precompile;\"'\n",
        "echo 'Done'"
      ]
    },
    {
      "cell_type": "code",
      "source": [
        "Press \"F5\""
      ],
      "metadata": {
        "id": "tqC1dYgubO_w"
      },
      "execution_count": null,
      "outputs": []
    },
    {
      "cell_type": "code",
      "execution_count": null,
      "metadata": {
        "colab": {
          "base_uri": "https://localhost:8080/"
        },
        "id": "juSSYQsZfUMf",
        "outputId": "dee77364-27ef-4381-cd8c-fae0f7887a7a"
      },
      "outputs": [
        {
          "output_type": "execute_result",
          "data": {
            "text/plain": [
              "v\"1.7.2\""
            ]
          },
          "metadata": {},
          "execution_count": 30
        }
      ],
      "source": [
        "VERSION"
      ]
    },
    {
      "cell_type": "code",
      "execution_count": null,
      "metadata": {
        "id": "b5t-0RvFfsbn",
        "colab": {
          "base_uri": "https://localhost:8080/"
        },
        "outputId": "d2c02bb6-bf8c-4c36-8fb9-c344da81530b"
      },
      "outputs": [
        {
          "output_type": "stream",
          "name": "stderr",
          "text": [
            "\u001b[32m\u001b[1m   Resolving\u001b[22m\u001b[39m package versions...\n",
            "\u001b[32m\u001b[1m  No Changes\u001b[22m\u001b[39m to `~/.julia/environments/v1.7/Project.toml`\n",
            "\u001b[32m\u001b[1m  No Changes\u001b[22m\u001b[39m to `~/.julia/environments/v1.7/Manifest.toml`\n",
            "\u001b[32m\u001b[1m   Resolving\u001b[22m\u001b[39m package versions...\n",
            "\u001b[32m\u001b[1m  No Changes\u001b[22m\u001b[39m to `~/.julia/environments/v1.7/Project.toml`\n",
            "\u001b[32m\u001b[1m  No Changes\u001b[22m\u001b[39m to `~/.julia/environments/v1.7/Manifest.toml`\n",
            "\u001b[32m\u001b[1m   Resolving\u001b[22m\u001b[39m package versions...\n",
            "\u001b[32m\u001b[1m  No Changes\u001b[22m\u001b[39m to `~/.julia/environments/v1.7/Project.toml`\n",
            "\u001b[32m\u001b[1m  No Changes\u001b[22m\u001b[39m to `~/.julia/environments/v1.7/Manifest.toml`\n",
            "\u001b[32m\u001b[1m   Resolving\u001b[22m\u001b[39m package versions...\n",
            "\u001b[32m\u001b[1m  No Changes\u001b[22m\u001b[39m to `~/.julia/environments/v1.7/Project.toml`\n",
            "\u001b[32m\u001b[1m  No Changes\u001b[22m\u001b[39m to `~/.julia/environments/v1.7/Manifest.toml`\n",
            "\u001b[32m\u001b[1m   Resolving\u001b[22m\u001b[39m package versions...\n",
            "\u001b[32m\u001b[1m  No Changes\u001b[22m\u001b[39m to `~/.julia/environments/v1.7/Project.toml`\n",
            "\u001b[32m\u001b[1m  No Changes\u001b[22m\u001b[39m to `~/.julia/environments/v1.7/Manifest.toml`\n"
          ]
        },
        {
          "output_type": "execute_result",
          "data": {
            "text/plain": [
              "\"\""
            ]
          },
          "metadata": {},
          "execution_count": 31
        }
      ],
      "source": [
        "import Pkg; Pkg.add(\"DataFrames\")\n",
        "import Pkg; Pkg.add(\"Statistics\")\n",
        "import Pkg; Pkg.add(\"CSV\")\n",
        "import Pkg; Pkg.add(\"Suppressor\")\n",
        "import Pkg; Pkg.add(\"Dates\")\n",
        "\"\""
      ]
    },
    {
      "cell_type": "code",
      "execution_count": null,
      "metadata": {
        "id": "noZ2lYc2elfz"
      },
      "outputs": [],
      "source": [
        "using DataFrames\n",
        "using Statistics\n",
        "using CSV\n",
        "using Suppressor\n",
        "using Dates"
      ]
    },
    {
      "cell_type": "code",
      "execution_count": null,
      "metadata": {
        "id": "te9sOHtGelgE",
        "colab": {
          "base_uri": "https://localhost:8080/"
        },
        "outputId": "06e091ed-af3d-4fc8-fa87-7a9eb77faef3"
      },
      "outputs": [
        {
          "output_type": "execute_result",
          "data": {
            "text/plain": [
              "inicializar (generic function with 1 method)"
            ]
          },
          "metadata": {},
          "execution_count": 33
        }
      ],
      "source": [
        "function inicializar()\n",
        "    out = DataFrame(Hora = String[], kWhcount = Float64[], count = Int64[])\n",
        "    rename!(out, [:\"Hora\", :\"kWh*count\", :\"count\"])\n",
        "\n",
        "    for i in 0:23\n",
        "        for j in 0:3\n",
        "            append!(out[!, \"Hora\"],[hora(i, j)])\n",
        "            append!(out[!, \"kWh*count\"],[0.0])\n",
        "            append!(out[!, \"count\"],[0])\n",
        "        end\n",
        "    end    \n",
        "    \n",
        "    return out\n",
        "end"
      ]
    },
    {
      "cell_type": "code",
      "execution_count": null,
      "metadata": {
        "id": "9xgMRQeUelgG",
        "colab": {
          "base_uri": "https://localhost:8080/"
        },
        "outputId": "1cfbcaee-af16-4a62-fae6-35622f2df732"
      },
      "outputs": [
        {
          "output_type": "execute_result",
          "data": {
            "text/plain": [
              "hora (generic function with 1 method)"
            ]
          },
          "metadata": {},
          "execution_count": 34
        }
      ],
      "source": [
        "function hora(i, j)      \n",
        "    if i != 0\n",
        "        if i < 10\n",
        "            h = \"0\" * string(i)\n",
        "        else\n",
        "            h = string(i)\n",
        "        end\n",
        "    else\n",
        "        h = \"00\"  \n",
        "    end   \n",
        "\n",
        "    if j != 0\n",
        "        m = string(j*15)\n",
        "    else\n",
        "        m = \"00\"    \n",
        "    end   \n",
        "    \n",
        "    return h * \":\" * m * \":\" * \"00\"\n",
        "end"
      ]
    },
    {
      "cell_type": "code",
      "execution_count": null,
      "metadata": {
        "id": "26HJeKVuelgJ",
        "colab": {
          "base_uri": "https://localhost:8080/"
        },
        "outputId": "6955f68f-908e-424f-cff7-164ac59ba7a0"
      },
      "outputs": [
        {
          "output_type": "execute_result",
          "data": {
            "text/plain": [
              "sumar_columnas (generic function with 1 method)"
            ]
          },
          "metadata": {},
          "execution_count": 35
        }
      ],
      "source": [
        "function sumar_columnas(out, df)\n",
        "    \n",
        "    if !(isempty(out)) || !(isempty(df))\n",
        "            out[!, 2] .= out[!, 2] + df[!, 2]\n",
        "            out[!, 3] .= out[!, 3] + df[!, 3]\n",
        "        return out\n",
        "    end\n",
        "    \n",
        "end"
      ]
    },
    {
      "cell_type": "code",
      "execution_count": null,
      "metadata": {
        "id": "P_oy6JEzelgK",
        "colab": {
          "base_uri": "https://localhost:8080/"
        },
        "outputId": "f47e7677-87ec-4883-f6af-34db9f0621d0"
      },
      "outputs": [
        {
          "output_type": "execute_result",
          "data": {
            "text/plain": [
              "df_por_tarifa (generic function with 1 method)"
            ]
          },
          "metadata": {},
          "execution_count": 36
        }
      ],
      "source": [
        "function df_por_tarifa(df)\n",
        "\n",
        "    aux = DataFrame()\n",
        "    out = DataFrame(Hora = String[], kWhcount = Float64[], count = Int64[])\n",
        "    rename!(out, [:\"Hora\", :\"kWh*count\", :\"count\"])\n",
        "\n",
        "    for i in 0:23\n",
        "        for j in 0:3\n",
        "            horario = hora(i, j)\n",
        "            aux = filter(:\"Hora\" => n -> n == horario, df)\n",
        "\n",
        "            kWh = mean(aux[!, 2])\n",
        "            count = length(aux[!, 2])\n",
        "            prod = kWh*count\n",
        "\n",
        "            #push!(aux, [horario prod count])\n",
        "            append!(out[!, \"Hora\"],[horario])\n",
        "            append!(out[!, \"kWh*count\"],[prod])\n",
        "            append!(out[!, \"count\"],[count])        \n",
        "        end\n",
        "    end\n",
        "    return out\n",
        "    \n",
        "end"
      ]
    },
    {
      "cell_type": "code",
      "execution_count": null,
      "metadata": {
        "id": "a_g5nq7JelgL",
        "colab": {
          "base_uri": "https://localhost:8080/"
        },
        "outputId": "9767e6c6-daa7-4b5a-a8a4-4bb15360ff4f"
      },
      "outputs": [
        {
          "output_type": "execute_result",
          "data": {
            "text/plain": [
              "t_n_f_index (generic function with 1 method)"
            ]
          },
          "metadata": {},
          "execution_count": 37
        }
      ],
      "source": [
        "# obtener tarifa\n",
        "function t_n_f_index(archivo)\n",
        "\n",
        "    open(archivo, \"r\") do f\n",
        "        lines = readlines(f)\n",
        "\n",
        "        tariff_index = findfirst(t -> occursin(\"Servicio:\", t), lines) # indices de tarifa y fecha\n",
        "                             \n",
        "        # obtener tipo de tarifa\n",
        "        tariff_vector = split(lines[tariff_index], \";\")\n",
        "        filter!(x -> x != \" \", tariff_vector) # eliminar espacio vacio \n",
        "        filter!(x -> x != \"\", tariff_vector) # eliminar espacio vacio \n",
        "        if occursin(\"Medicion:\", tariff_vector[2])\n",
        "            tariff_vector[2] = \"Medicion:\"\n",
        "        end\n",
        "        \n",
        "        # tarifa e indice de fecha\n",
        "        return tariff_vector[2]\n",
        "    end\n",
        "    \n",
        "end"
      ]
    },
    {
      "cell_type": "code",
      "execution_count": null,
      "metadata": {
        "id": "z8ZuEvBIelgM",
        "colab": {
          "base_uri": "https://localhost:8080/"
        },
        "outputId": "d1dd8e76-8075-4ccc-bc34-a1980593f9ff"
      },
      "outputs": [
        {
          "output_type": "execute_result",
          "data": {
            "text/plain": [
              "limpiarTexto (generic function with 1 method)"
            ]
          },
          "metadata": {},
          "execution_count": 38
        }
      ],
      "source": [
        "function limpiarTexto(f)\n",
        "\n",
        "    lines = readlines(f)\n",
        "    fecha_in = findfirst(t -> occursin(\"Fecha\", t), lines)\n",
        "    lines[end] = \"\" # eliminar ultima linea\n",
        "    # si existe esa esctructura eliminarla\n",
        "    if lines[end - 1] == \";;;;;;;;;;;;;;;;\"\n",
        "        lines[end - 1] = \"\" \n",
        "    end\n",
        "\n",
        "    lines = lines[fecha_in: end] # obtener solo las lineas a partir de la fecha\n",
        "    lines[1] = replace(lines[1], \"\\xe1\" => \"\") # sustituir caracteres especiales  \n",
        "    string = join(lines, \"\\n\") # vector a string para leerlo como csv\n",
        "    string = replace(string, \";;\" => \";\") # eliminar duplicados\n",
        "    return string\n",
        "    \n",
        "end"
      ]
    },
    {
      "cell_type": "code",
      "execution_count": null,
      "metadata": {
        "id": "SUEAhbPgelgS",
        "colab": {
          "base_uri": "https://localhost:8080/"
        },
        "outputId": "e3e27390-473b-4be7-f216-98569329c18d"
      },
      "outputs": [
        {
          "output_type": "execute_result",
          "data": {
            "text/plain": [
              "primeraLimpiezaDF (generic function with 1 method)"
            ]
          },
          "metadata": {},
          "execution_count": 39
        }
      ],
      "source": [
        "function primeraLimpiezaDF(df)\n",
        "    \n",
        "    # renombrar \"Fecha hora\" a \"Fecha Hora\"\n",
        "    if \"Fecha hora\" in names(df)\n",
        "        rename!(df, \"Fecha hora\" => \"Fecha Hora\")\n",
        "    end\n",
        "    select!(df, \"Fecha Hora\", \"kWh\") # eliminar las columnas no utiles\n",
        "    dropmissing!(df, \"Fecha Hora\") # eliminar los missing\n",
        "    dropmissing!(df, \"kWh\") # eliminar los missing\n",
        "    \n",
        "    return df\n",
        "end"
      ]
    },
    {
      "cell_type": "code",
      "execution_count": null,
      "metadata": {
        "id": "WKpOnzV9elgT",
        "colab": {
          "base_uri": "https://localhost:8080/"
        },
        "outputId": "5499252d-6a83-4274-db92-5b4f9b8248be"
      },
      "outputs": [
        {
          "output_type": "execute_result",
          "data": {
            "text/plain": [
              "segundaLimpiezaDF (generic function with 1 method)"
            ]
          },
          "metadata": {},
          "execution_count": 40
        }
      ],
      "source": [
        "function segundaLimpiezaDF(df)\n",
        "    \n",
        "    df[!,2] .= replace.(df[!,2], \",\" => \".\") # coma a punto\n",
        "    df[!,2] .= parse.(Float64, df[!,2]) # string a float\n",
        "\n",
        "    transform!(df, :\"Fecha Hora\" => ByRow(x -> split(x, ' ')) => [:\"Fecha\", :\"Hora\"]) # separar fecha y hora\n",
        "    df = df[:, [2, 4]] # dejar las columnas Fecha y Fecha Hora\n",
        "    df[!, 1], df[!, 2] = df[!, 2], df[!, 1] # cambiar valores de las columnas\n",
        "    rename!(df, [:\"Hora\", :\"kWh\"]) # renombrar columnas\n",
        "    \n",
        "    return df\n",
        "end"
      ]
    },
    {
      "cell_type": "code",
      "source": [
        "carpeta = \"procesar\"\n",
        "if !isdir(carpeta)\n",
        "    mkdir(carpeta)\n",
        "end"
      ],
      "metadata": {
        "colab": {
          "base_uri": "https://localhost:8080/"
        },
        "id": "00UA85AoKTOU",
        "outputId": "09422d93-3e98-4e61-e3dd-96d4364ffcaa"
      },
      "execution_count": null,
      "outputs": [
        {
          "output_type": "execute_result",
          "data": {
            "text/plain": [
              "\"procesar\""
            ]
          },
          "metadata": {},
          "execution_count": 41
        }
      ]
    },
    {
      "cell_type": "code",
      "execution_count": null,
      "metadata": {
        "id": "sTJt8BWoelgU"
      },
      "outputs": [],
      "source": [
        "# obtener ubicacion de todos los archivos\n",
        "archivos = Vector{String}()\n",
        "# recorrer cada carpeta dentro de \"carpeta\"\n",
        "for folder in readdir(carpeta)\n",
        "    \n",
        "    # recorrer cada archivo dentro de la carpeta dentro de \"folder\"\n",
        "    for file in readdir(carpeta * \"/\" *folder)\n",
        "        push!(archivos, \"$carpeta/$folder/$file\")\n",
        "    end\n",
        "    \n",
        "end"
      ]
    },
    {
      "cell_type": "code",
      "execution_count": null,
      "metadata": {
        "id": "3tCUcKQxhIt3",
        "colab": {
          "base_uri": "https://localhost:8080/"
        },
        "outputId": "f24c32a8-731e-49df-db1a-c441085a8a0f"
      },
      "outputs": [
        {
          "output_type": "stream",
          "name": "stdout",
          "text": [
            "0\n"
          ]
        }
      ],
      "source": [
        "println(length(archivos))"
      ]
    },
    {
      "cell_type": "code",
      "execution_count": null,
      "metadata": {
        "id": "uk3eNEprelgV"
      },
      "outputs": [],
      "source": [
        "# obtener vectores de tarifa e indice de fecha\n",
        "tariff = Vector{String}()\n",
        "\n",
        "for i in 1:length(archivos)\n",
        "\n",
        "    archivo = archivos[i] # ORDEN DE LECTURA\n",
        "    aux = t_n_f_index(archivo)\n",
        "    # guardar tarifa e indice de fecha\n",
        "    push!(tariff, aux)\n",
        "\n",
        "end"
      ]
    },
    {
      "cell_type": "code",
      "execution_count": null,
      "metadata": {
        "id": "-JQm1xH3elgV"
      },
      "outputs": [],
      "source": [
        "tariff_set_list = collect(Set(tariff)) # lista de valores unicos\n",
        "for i in tariff_set_list\n",
        "    println(\"$i -> \", count(==(i), tariff))\n",
        "end"
      ]
    },
    {
      "cell_type": "code",
      "execution_count": null,
      "metadata": {
        "id": "M3Bgo78EelgW",
        "colab": {
          "base_uri": "https://localhost:8080/"
        },
        "outputId": "9368d525-355b-45c6-d252-15b024884651"
      },
      "outputs": [
        {
          "output_type": "stream",
          "name": "stdout",
          "text": [
            "0\n"
          ]
        },
        {
          "output_type": "execute_result",
          "data": {
            "text/plain": [
              "\"\""
            ]
          },
          "metadata": {},
          "execution_count": 46
        }
      ],
      "source": [
        "arch = findall(x -> occursin(\"Medicion:\", x) , tariff)\n",
        "cant_archivos = length(arch)\n",
        "println(cant_archivos)\n",
        "#println(arch[1:cant_archivos]) \n",
        "\"\""
      ]
    },
    {
      "cell_type": "code",
      "execution_count": null,
      "metadata": {
        "id": "_CXexYLo3mYA",
        "colab": {
          "base_uri": "https://localhost:8080/"
        },
        "outputId": "4021a13b-4479-43c4-b5ad-837f064744aa"
      },
      "outputs": [
        {
          "output_type": "execute_result",
          "data": {
            "text/plain": [
              "\"excel_out\""
            ]
          },
          "metadata": {},
          "execution_count": 47
        }
      ],
      "source": [
        "# definir carpeta de salida\n",
        "carpeta_salida = \"excel_out\"\n",
        "if !isdir(carpeta_salida)\n",
        "    mkdir(carpeta_salida)\n",
        "end"
      ]
    },
    {
      "cell_type": "code",
      "execution_count": null,
      "metadata": {
        "id": "PwIm7q314m0N",
        "colab": {
          "base_uri": "https://localhost:8080/"
        },
        "outputId": "f32b2ae7-fd7f-42de-ab54-13f858da2b47"
      },
      "outputs": [
        {
          "output_type": "execute_result",
          "data": {
            "text/plain": [
              "\"\""
            ]
          },
          "metadata": {},
          "execution_count": 48
        }
      ],
      "source": [
        "# definir tiempo de salida\n",
        "t = Dates.now() \n",
        "formatoTiempo = \"$(Dates.hour(t))h$(Dates.second(t))m$(Dates.minute(t))s_$(Dates.Date(t))\"\n",
        "\"\""
      ]
    },
    {
      "cell_type": "code",
      "execution_count": null,
      "metadata": {
        "id": "ZbP-nDDselgW",
        "colab": {
          "base_uri": "https://localhost:8080/"
        },
        "outputId": "40674a05-7029-4b0d-e7f7-cf904f72c781"
      },
      "outputs": [
        {
          "output_type": "execute_result",
          "data": {
            "text/plain": [
              "\"\""
            ]
          },
          "metadata": {},
          "execution_count": 49
        }
      ],
      "source": [
        "# para cada tarifa\n",
        "# recorrer elementos unicos de tarifa\n",
        "@suppress begin\n",
        "    for i in 1:length(tariff_set_list)\n",
        "        \n",
        "        global contador = 0\n",
        "        # se opera sobre cada coincidencia de tarifa\n",
        "        # sin procesar \"Medicion:\"\n",
        "        if occursin(\"Medicion:\", tariff_set_list[i]) != true\n",
        "            global out = inicializar() # inicializar un df generico\n",
        "            posicion_tarifas = findall(x -> x == tariff_set_list[i] , tariff) # posiciones de tarifa    \n",
        "\n",
        "            # recorrer cada archivo de cada tarifa\n",
        "            for indice_tarifa in posicion_tarifas\n",
        "                archivo = archivos[indice_tarifa] # archivo con ese indice de tarifa\n",
        "                \n",
        "                    # abrir archivo\n",
        "                    open(archivo, \"r\") do f\n",
        "\n",
        "                        string = limpiarTexto(f) # preparar texto para df\n",
        "                        df = CSV.read(IOBuffer(string), DataFrame; delim = \";\", header = true) # string a csv                    \n",
        "                        df = primeraLimpiezaDF(df)\n",
        "\n",
        "                        if length(df[!, 1]) > 0\n",
        "                            \n",
        "                            global contador += 1\n",
        "                            df = segundaLimpiezaDF(df)\n",
        "                            df_out = df_por_tarifa(df) # df de solo 24h*(60min/1h)/15min = 96\n",
        "\n",
        "                            # limpiar NaN\n",
        "                            for col in eachcol(df_out)\n",
        "                                replace!(col, NaN => 0.0)\n",
        "                            end    \n",
        "\n",
        "                            out = sumar_columnas(df_out, out) # sumar df especifico\n",
        "                        \n",
        "                        end \n",
        "                    end\n",
        "            end\n",
        "            nombre = \"$(tariff_set_list[i])-$contador-$formatoTiempo\" \n",
        "            CSV.write(\"$carpeta_salida/$nombre.csv\", out) # guardar df por tarifa\n",
        "        end\n",
        "    end\n",
        "end\n",
        "\"\""
      ]
    },
    {
      "cell_type": "markdown",
      "metadata": {
        "id": "i60ANT5Pelga"
      },
      "source": [
        "---------------------------------------------------------------------------------------------------------------------------------------------------"
      ]
    }
  ],
  "metadata": {
    "colab": {
      "collapsed_sections": [],
      "name": "juliaVDrive.ipynb",
      "provenance": [],
      "include_colab_link": true
    },
    "kernelspec": {
      "display_name": "Julia 1.7.2",
      "language": "julia",
      "name": "julia-1.7"
    },
    "language_info": {
      "file_extension": ".jl",
      "mimetype": "application/julia",
      "name": "julia",
      "version": "1.7.2"
    },
    "vscode": {
      "interpreter": {
        "hash": "93154fb6922f4ec00cf695e755af93d1bc36813b77bf10dba3094736dde7a702"
      }
    }
  },
  "nbformat": 4,
  "nbformat_minor": 0
}