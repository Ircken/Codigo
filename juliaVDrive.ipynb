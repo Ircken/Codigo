{
  "cells": [
    {
      "cell_type": "code",
      "execution_count": 106,
      "metadata": {
        "colab": {
          "base_uri": "https://localhost:8080/",
          "height": 87
        },
        "id": "i7jgplQdeoBW",
        "outputId": "d5bf7f5f-988a-47e9-b0c0-db30943ef7ce"
      },
      "outputs": [
        {
          "output_type": "display_data",
          "data": {
            "text/plain": [
              "  Unrecognized magic \u001b[36m%%capture\u001b[39m.\n",
              "\n",
              "  Julia does not use the IPython \u001b[36m%magic\u001b[39m syntax. To interact with the IJulia\n",
              "  kernel, use \u001b[36mIJulia.somefunction(...)\u001b[39m, for example. Julia macros, string\n",
              "  macros, and functions can be used to accomplish most of the other\n",
              "  functionalities of IPython magics."
            ],
            "text/markdown": "Unrecognized magic `%%capture`.\n\nJulia does not use the IPython `%magic` syntax.   To interact with the IJulia kernel, use `IJulia.somefunction(...)`, for example.  Julia macros, string macros, and functions can be used to accomplish most of the other functionalities of IPython magics.\n",
            "text/latex": "Unrecognized magic \\texttt{\\%\\%capture}.\n\nJulia does not use the IPython \\texttt{\\%magic} syntax.   To interact with the IJulia kernel, use \\texttt{IJulia.somefunction(...)}, for example.  Julia macros, string macros, and functions can be used to accomplish most of the other functionalities of IPython magics.\n\n"
          },
          "metadata": {}
        }
      ],
      "source": [
        "# Installation cell\n",
        "%%capture\n",
        "%%shell\n",
        "if ! command -v julia 3>&1 > /dev/null\n",
        "then\n",
        "    wget -q 'https://julialang-s3.julialang.org/bin/linux/x64/1.7/julia-1.7.2-linux-x86_64.tar.gz' \\\n",
        "        -O /tmp/julia.tar.gz\n",
        "    tar -x -f /tmp/julia.tar.gz -C /usr/local --strip-components 1\n",
        "    rm /tmp/julia.tar.gz\n",
        "fi\n",
        "julia -e 'using Pkg; pkg\"add IJulia; precompile;\"'\n",
        "echo 'Done'\n",
        "\"\""
      ]
    },
    {
      "cell_type": "code",
      "execution_count": 107,
      "metadata": {
        "colab": {
          "base_uri": "https://localhost:8080/"
        },
        "id": "juSSYQsZfUMf",
        "outputId": "ada78deb-35af-4aa0-a187-c016fefb0db9"
      },
      "outputs": [
        {
          "output_type": "execute_result",
          "data": {
            "text/plain": [
              "v\"1.7.2\""
            ]
          },
          "metadata": {},
          "execution_count": 107
        }
      ],
      "source": [
        "VERSION"
      ]
    },
    {
      "cell_type": "code",
      "execution_count": 108,
      "metadata": {
        "colab": {
          "base_uri": "https://localhost:8080/"
        },
        "id": "b5t-0RvFfsbn",
        "outputId": "012194b1-252b-4f16-c276-0c96aa9d9c81"
      },
      "outputs": [
        {
          "output_type": "stream",
          "name": "stderr",
          "text": [
            "\u001b[32m\u001b[1m   Resolving\u001b[22m\u001b[39m package versions...\n",
            "\u001b[32m\u001b[1m  No Changes\u001b[22m\u001b[39m to `~/.julia/environments/v1.7/Project.toml`\n",
            "\u001b[32m\u001b[1m  No Changes\u001b[22m\u001b[39m to `~/.julia/environments/v1.7/Manifest.toml`\n",
            "\u001b[32m\u001b[1m   Resolving\u001b[22m\u001b[39m package versions...\n",
            "\u001b[32m\u001b[1m  No Changes\u001b[22m\u001b[39m to `~/.julia/environments/v1.7/Project.toml`\n",
            "\u001b[32m\u001b[1m  No Changes\u001b[22m\u001b[39m to `~/.julia/environments/v1.7/Manifest.toml`\n",
            "\u001b[32m\u001b[1m   Resolving\u001b[22m\u001b[39m package versions...\n",
            "\u001b[32m\u001b[1m  No Changes\u001b[22m\u001b[39m to `~/.julia/environments/v1.7/Project.toml`\n",
            "\u001b[32m\u001b[1m  No Changes\u001b[22m\u001b[39m to `~/.julia/environments/v1.7/Manifest.toml`\n",
            "\u001b[32m\u001b[1m   Resolving\u001b[22m\u001b[39m package versions...\n",
            "\u001b[32m\u001b[1m  No Changes\u001b[22m\u001b[39m to `~/.julia/environments/v1.7/Project.toml`\n",
            "\u001b[32m\u001b[1m  No Changes\u001b[22m\u001b[39m to `~/.julia/environments/v1.7/Manifest.toml`\n",
            "\u001b[32m\u001b[1m   Resolving\u001b[22m\u001b[39m package versions...\n",
            "\u001b[32m\u001b[1m  No Changes\u001b[22m\u001b[39m to `~/.julia/environments/v1.7/Project.toml`\n",
            "\u001b[32m\u001b[1m  No Changes\u001b[22m\u001b[39m to `~/.julia/environments/v1.7/Manifest.toml`\n"
          ]
        },
        {
          "output_type": "execute_result",
          "data": {
            "text/plain": [
              "\"\""
            ]
          },
          "metadata": {},
          "execution_count": 108
        }
      ],
      "source": [
        "import Pkg; Pkg.add(\"DataFrames\")\n",
        "import Pkg; Pkg.add(\"Statistics\")\n",
        "import Pkg; Pkg.add(\"CSV\")\n",
        "import Pkg; Pkg.add(\"Suppressor\")\n",
        "import Pkg; Pkg.add(\"Dates\")\n",
        "\"\""
      ]
    },
    {
      "cell_type": "code",
      "execution_count": 109,
      "metadata": {
        "id": "noZ2lYc2elfz"
      },
      "outputs": [],
      "source": [
        "using DataFrames\n",
        "using Statistics\n",
        "using CSV\n",
        "using Suppressor\n",
        "using Dates"
      ]
    },
    {
      "cell_type": "code",
      "execution_count": 110,
      "metadata": {
        "colab": {
          "base_uri": "https://localhost:8080/"
        },
        "id": "te9sOHtGelgE",
        "outputId": "2be7965b-eeb0-4846-ef4c-3efbaaac1f36"
      },
      "outputs": [
        {
          "output_type": "execute_result",
          "data": {
            "text/plain": [
              "inicializar (generic function with 1 method)"
            ]
          },
          "metadata": {},
          "execution_count": 110
        }
      ],
      "source": [
        "function inicializar()\n",
        "    out = DataFrame(Hora = String[], kWhcount = Float64[], count = Int64[])\n",
        "    rename!(out, [:\"Hora\", :\"kWh*count\", :\"count\"])\n",
        "\n",
        "    for i in 0:23\n",
        "        for j in 0:3\n",
        "            append!(out[!, \"Hora\"],[hora(i, j)])\n",
        "            append!(out[!, \"kWh*count\"],[0.0])\n",
        "            append!(out[!, \"count\"],[0])\n",
        "        end\n",
        "    end    \n",
        "    \n",
        "    return out\n",
        "end"
      ]
    },
    {
      "cell_type": "code",
      "execution_count": 111,
      "metadata": {
        "colab": {
          "base_uri": "https://localhost:8080/"
        },
        "id": "9xgMRQeUelgG",
        "outputId": "23b261c5-db9f-4e9f-de7a-b86c84fcbe77"
      },
      "outputs": [
        {
          "output_type": "execute_result",
          "data": {
            "text/plain": [
              "hora (generic function with 1 method)"
            ]
          },
          "metadata": {},
          "execution_count": 111
        }
      ],
      "source": [
        "function hora(i, j)      \n",
        "    if i != 0\n",
        "        if i < 10\n",
        "            h = \"0\" * string(i)\n",
        "        else\n",
        "            h = string(i)\n",
        "        end\n",
        "    else\n",
        "        h = \"00\"  \n",
        "    end   \n",
        "\n",
        "    if j != 0\n",
        "        m = string(j*15)\n",
        "    else\n",
        "        m = \"00\"    \n",
        "    end   \n",
        "    \n",
        "    return h * \":\" * m * \":\" * \"00\"\n",
        "end"
      ]
    },
    {
      "cell_type": "code",
      "execution_count": 112,
      "metadata": {
        "colab": {
          "base_uri": "https://localhost:8080/"
        },
        "id": "26HJeKVuelgJ",
        "outputId": "8c419436-b387-4b03-c06d-0bb8b2ff75d5"
      },
      "outputs": [
        {
          "output_type": "execute_result",
          "data": {
            "text/plain": [
              "sumar_columnas (generic function with 1 method)"
            ]
          },
          "metadata": {},
          "execution_count": 112
        }
      ],
      "source": [
        "function sumar_columnas(out, df)\n",
        "    \n",
        "    if !(isempty(out)) || !(isempty(df))\n",
        "            out[!, 2] .= out[!, 2] + df[!, 2]\n",
        "            out[!, 3] .= out[!, 3] + df[!, 3]\n",
        "        return out\n",
        "    end\n",
        "    \n",
        "end"
      ]
    },
    {
      "cell_type": "code",
      "execution_count": 113,
      "metadata": {
        "colab": {
          "base_uri": "https://localhost:8080/"
        },
        "id": "P_oy6JEzelgK",
        "outputId": "bce78e5f-7453-4c09-f4b8-0aee0a6ba213"
      },
      "outputs": [
        {
          "output_type": "execute_result",
          "data": {
            "text/plain": [
              "df_por_tarifa (generic function with 1 method)"
            ]
          },
          "metadata": {},
          "execution_count": 113
        }
      ],
      "source": [
        "function df_por_tarifa(df)\n",
        "\n",
        "    aux = DataFrame()\n",
        "    out = DataFrame(Hora = String[], kWhcount = Float64[], count = Int64[])\n",
        "    rename!(out, [:\"Hora\", :\"kWh*count\", :\"count\"])\n",
        "\n",
        "    for i in 0:23\n",
        "        for j in 0:3\n",
        "            horario = hora(i, j)\n",
        "            aux = filter(:\"Hora\" => n -> n == horario, df)\n",
        "\n",
        "            kWh = mean(aux[!, 2])\n",
        "            count = length(aux[!, 2])\n",
        "            prod = kWh*count\n",
        "\n",
        "            #push!(aux, [horario prod count])\n",
        "            append!(out[!, \"Hora\"],[horario])\n",
        "            append!(out[!, \"kWh*count\"],[prod])\n",
        "            append!(out[!, \"count\"],[count])        \n",
        "        end\n",
        "    end\n",
        "    return out\n",
        "    \n",
        "end"
      ]
    },
    {
      "cell_type": "code",
      "execution_count": 114,
      "metadata": {
        "colab": {
          "base_uri": "https://localhost:8080/"
        },
        "id": "a_g5nq7JelgL",
        "outputId": "5cb8dcc4-de0a-402c-a33f-9730ca034297"
      },
      "outputs": [
        {
          "output_type": "execute_result",
          "data": {
            "text/plain": [
              "t_n_f_index (generic function with 1 method)"
            ]
          },
          "metadata": {},
          "execution_count": 114
        }
      ],
      "source": [
        "# obtener tarifa\n",
        "function t_n_f_index(archivo)\n",
        "\n",
        "    open(archivo, \"r\") do f\n",
        "        lines = readlines(f)\n",
        "\n",
        "        tariff_index = findfirst(t -> occursin(\"Servicio:\", t), lines) # indices de tarifa y fecha\n",
        "                             \n",
        "        # obtener tipo de tarifa\n",
        "        tariff_vector = split(lines[tariff_index], \";\")\n",
        "        filter!(x -> x != \" \", tariff_vector) # eliminar espacio vacio \n",
        "        filter!(x -> x != \"\", tariff_vector) # eliminar espacio vacio \n",
        "        if occursin(\"Medicion:\", tariff_vector[2])\n",
        "            tariff_vector[2] = \"Medicion:\"\n",
        "        end\n",
        "        \n",
        "        # tarifa e indice de fecha\n",
        "        return tariff_vector[2]\n",
        "    end\n",
        "    \n",
        "end"
      ]
    },
    {
      "cell_type": "code",
      "execution_count": 115,
      "metadata": {
        "colab": {
          "base_uri": "https://localhost:8080/"
        },
        "id": "z8ZuEvBIelgM",
        "outputId": "6f1e8c03-c645-40fa-9446-3ebdfb3e8784"
      },
      "outputs": [
        {
          "output_type": "execute_result",
          "data": {
            "text/plain": [
              "limpiarTexto (generic function with 1 method)"
            ]
          },
          "metadata": {},
          "execution_count": 115
        }
      ],
      "source": [
        "function limpiarTexto(f)\n",
        "\n",
        "    lines = readlines(f)\n",
        "    fecha_in = findfirst(t -> occursin(\"Fecha\", t), lines)\n",
        "    lines[end] = \"\" # eliminar ultima linea\n",
        "    # si existe esa esctructura eliminarla\n",
        "    if lines[end - 1] == \";;;;;;;;;;;;;;;;\"\n",
        "        lines[end - 1] = \"\" \n",
        "    end\n",
        "\n",
        "    lines = lines[fecha_in: end] # obtener solo las lineas a partir de la fecha\n",
        "    lines[1] = replace(lines[1], \"\\xe1\" => \"\") # sustituir caracteres especiales  \n",
        "    string = join(lines, \"\\n\") # vector a string para leerlo como csv\n",
        "    string = replace(string, \";;\" => \";\") # eliminar duplicados\n",
        "    return string\n",
        "    \n",
        "end"
      ]
    },
    {
      "cell_type": "code",
      "execution_count": 116,
      "metadata": {
        "colab": {
          "base_uri": "https://localhost:8080/"
        },
        "id": "SUEAhbPgelgS",
        "outputId": "73e6bc5d-945b-4c14-8350-663858655654"
      },
      "outputs": [
        {
          "output_type": "execute_result",
          "data": {
            "text/plain": [
              "primeraLimpiezaDF (generic function with 1 method)"
            ]
          },
          "metadata": {},
          "execution_count": 116
        }
      ],
      "source": [
        "function primeraLimpiezaDF(df)\n",
        "    \n",
        "    # renombrar \"Fecha hora\" a \"Fecha Hora\"\n",
        "    if \"Fecha hora\" in names(df)\n",
        "        rename!(df, \"Fecha hora\" => \"Fecha Hora\")\n",
        "    end\n",
        "    select!(df, \"Fecha Hora\", \"kWh\") # eliminar las columnas no utiles\n",
        "    dropmissing!(df, \"Fecha Hora\") # eliminar los missing\n",
        "    dropmissing!(df, \"kWh\") # eliminar los missing\n",
        "    \n",
        "    return df\n",
        "end"
      ]
    },
    {
      "cell_type": "code",
      "execution_count": 117,
      "metadata": {
        "colab": {
          "base_uri": "https://localhost:8080/"
        },
        "id": "WKpOnzV9elgT",
        "outputId": "3f3e0cee-9166-4121-9d0a-4fe9c01099e5"
      },
      "outputs": [
        {
          "output_type": "execute_result",
          "data": {
            "text/plain": [
              "segundaLimpiezaDF (generic function with 1 method)"
            ]
          },
          "metadata": {},
          "execution_count": 117
        }
      ],
      "source": [
        "function segundaLimpiezaDF(df)\n",
        "    \n",
        "    df[!,2] .= replace.(df[!,2], \",\" => \".\") # coma a punto\n",
        "    df[!,2] .= parse.(Float64, df[!,2]) # string a float\n",
        "\n",
        "    transform!(df, :\"Fecha Hora\" => ByRow(x -> split(x, ' ')) => [:\"Fecha\", :\"Hora\"]) # separar fecha y hora\n",
        "    df = df[:, [2, 4]] # dejar las columnas Fecha y Fecha Hora\n",
        "    df[!, 1], df[!, 2] = df[!, 2], df[!, 1] # cambiar valores de las columnas\n",
        "    rename!(df, [:\"Hora\", :\"kWh\"]) # renombrar columnas\n",
        "    \n",
        "    return df\n",
        "end"
      ]
    },
    {
      "cell_type": "code",
      "execution_count": 118,
      "metadata": {
        "id": "sTJt8BWoelgU"
      },
      "outputs": [],
      "source": [
        "# obtener ubicacion de todos los archivos\n",
        "archivos = Vector{String}()\n",
        "carpeta = \"procesar\"\n",
        "# recorrer cada carpeta dentro de \"carpeta\"\n",
        "for folder in readdir(carpeta)\n",
        "    \n",
        "    # recorrer cada archivo dentro de la carpeta dentro de \"folder\"\n",
        "    for file in readdir(carpeta * \"/\" *folder)\n",
        "        push!(archivos, \"$carpeta/$folder/$file\")\n",
        "    end\n",
        "    \n",
        "end"
      ]
    },
    {
      "cell_type": "code",
      "execution_count": 119,
      "metadata": {
        "colab": {
          "base_uri": "https://localhost:8080/"
        },
        "id": "3tCUcKQxhIt3",
        "outputId": "59a58cb3-4c41-461a-8257-2d8f12efc4da"
      },
      "outputs": [
        {
          "output_type": "stream",
          "name": "stdout",
          "text": [
            "200\n"
          ]
        }
      ],
      "source": [
        "println(length(archivos))"
      ]
    },
    {
      "cell_type": "code",
      "execution_count": 120,
      "metadata": {
        "id": "uk3eNEprelgV"
      },
      "outputs": [],
      "source": [
        "# obtener vectores de tarifa e indice de fecha\n",
        "tariff = Vector{String}()\n",
        "\n",
        "for i in 1:length(archivos)\n",
        "\n",
        "    archivo = archivos[i] # ORDEN DE LECTURA\n",
        "    aux = t_n_f_index(archivo)\n",
        "    # guardar tarifa e indice de fecha\n",
        "    push!(tariff, aux)\n",
        "\n",
        "end"
      ]
    },
    {
      "cell_type": "code",
      "execution_count": 121,
      "metadata": {
        "colab": {
          "base_uri": "https://localhost:8080/"
        },
        "id": "-JQm1xH3elgV",
        "outputId": "f72d76d0-3d3a-4838-d5cb-d0819495a485"
      },
      "outputs": [
        {
          "output_type": "stream",
          "name": "stdout",
          "text": [
            "Medicion: -> 2\n",
            "TARIFA 3 B.T. -> 105\n",
            "T1 con modo de reactiva 2 -> 4\n",
            "Tarifa 2 BT -> 9\n",
            "TARIFA 3 M.T. -> 80\n"
          ]
        }
      ],
      "source": [
        "tariff_set_list = collect(Set(tariff)) # lista de valores unicos\n",
        "for i in tariff_set_list\n",
        "    println(\"$i -> \", count(==(i), tariff))\n",
        "end"
      ]
    },
    {
      "cell_type": "code",
      "execution_count": 122,
      "metadata": {
        "colab": {
          "base_uri": "https://localhost:8080/"
        },
        "id": "M3Bgo78EelgW",
        "outputId": "1f2f919a-6522-4574-95d6-99a3e6b821f6"
      },
      "outputs": [
        {
          "output_type": "stream",
          "name": "stdout",
          "text": [
            "2\n"
          ]
        },
        {
          "output_type": "execute_result",
          "data": {
            "text/plain": [
              "\"\""
            ]
          },
          "metadata": {},
          "execution_count": 122
        }
      ],
      "source": [
        "arch = findall(x -> occursin(\"Medicion:\", x) , tariff)\n",
        "cant_archivos = length(arch)\n",
        "println(cant_archivos)\n",
        "#println(arch[1:cant_archivos]) \n",
        "\"\""
      ]
    },
    {
      "cell_type": "code",
      "execution_count": 123,
      "metadata": {
        "id": "_CXexYLo3mYA"
      },
      "outputs": [],
      "source": [
        "# definir carpeta de salida\n",
        "carpeta_salida = \"excel_out\"\n",
        "if !isdir(carpeta_salida)\n",
        "    mkdir(carpeta_salida)\n",
        "end"
      ]
    },
    {
      "cell_type": "code",
      "execution_count": 124,
      "metadata": {
        "colab": {
          "base_uri": "https://localhost:8080/"
        },
        "id": "PwIm7q314m0N",
        "outputId": "a0756d9f-d15f-48d0-dc41-0219336e6968"
      },
      "outputs": [
        {
          "output_type": "execute_result",
          "data": {
            "text/plain": [
              "\"\""
            ]
          },
          "metadata": {},
          "execution_count": 124
        }
      ],
      "source": [
        "# definir tiempo de salida\n",
        "t = Dates.now() \n",
        "formatoTiempo = \"$(Dates.hour(t))h$(Dates.second(t))m$(Dates.minute(t))s_$(Dates.Date(t))\"\n",
        "\"\""
      ]
    },
    {
      "cell_type": "code",
      "execution_count": 125,
      "metadata": {
        "colab": {
          "base_uri": "https://localhost:8080/"
        },
        "id": "ZbP-nDDselgW",
        "outputId": "4a541d6d-ddeb-452e-c938-afa9dfa33c45"
      },
      "outputs": [
        {
          "output_type": "execute_result",
          "data": {
            "text/plain": [
              "\"\""
            ]
          },
          "metadata": {},
          "execution_count": 125
        }
      ],
      "source": [
        "# para cada tarifa\n",
        "# recorrer elementos unicos de tarifa\n",
        "@suppress begin\n",
        "    for i in 1:length(tariff_set_list)\n",
        "        \n",
        "        global contador = 0\n",
        "        # se opera sobre cada coincidencia de tarifa\n",
        "        # sin procesar \"Medicion:\"\n",
        "        if occursin(\"Medicion:\", tariff_set_list[i]) != true\n",
        "            global out = inicializar() # inicializar un df generico\n",
        "            posicion_tarifas = findall(x -> x == tariff_set_list[i] , tariff) # posiciones de tarifa    \n",
        "\n",
        "            # recorrer cada archivo de cada tarifa\n",
        "            for indice_tarifa in posicion_tarifas\n",
        "                archivo = archivos[indice_tarifa] # archivo con ese indice de tarifa\n",
        "                \n",
        "                    # abrir archivo\n",
        "                    open(archivo, \"r\") do f\n",
        "\n",
        "                        string = limpiarTexto(f) # preparar texto para df\n",
        "                        df = CSV.read(IOBuffer(string), DataFrame; delim = \";\", header = true) # string a csv                    \n",
        "                        df = primeraLimpiezaDF(df)\n",
        "\n",
        "                        if length(df[!, 1]) > 0\n",
        "                            \n",
        "                            global contador += 1\n",
        "                            df = segundaLimpiezaDF(df)\n",
        "                            df_out = df_por_tarifa(df) # df de solo 24h*(60min/1h)/15min = 96\n",
        "\n",
        "                            # limpiar NaN\n",
        "                            for col in eachcol(df_out)\n",
        "                                replace!(col, NaN => 0.0)\n",
        "                            end    \n",
        "\n",
        "                            out = sumar_columnas(df_out, out) # sumar df especifico\n",
        "                        \n",
        "                        end \n",
        "                    end\n",
        "            end\n",
        "            nombre = \"$(tariff_set_list[i])-$contador-$formatoTiempo\" \n",
        "            CSV.write(\"$carpeta_salida/$nombre.csv\", out) # guardar df por tarifa\n",
        "        end\n",
        "    end\n",
        "end\n",
        "\"\""
      ]
    },
    {
      "cell_type": "markdown",
      "metadata": {
        "id": "i60ANT5Pelga"
      },
      "source": [
        "---------------------------------------------------------------------------------------------------------------------------------------------------"
      ]
    }
  ],
  "metadata": {
    "colab": {
      "collapsed_sections": [],
      "name": "juliaV7.ipynb",
      "provenance": []
    },
    "kernelspec": {
      "display_name": "Julia 1.7.2",
      "language": "julia",
      "name": "julia-1.7"
    },
    "language_info": {
      "file_extension": ".jl",
      "mimetype": "application/julia",
      "name": "julia",
      "version": "1.7.2"
    },
    "vscode": {
      "interpreter": {
        "hash": "93154fb6922f4ec00cf695e755af93d1bc36813b77bf10dba3094736dde7a702"
      }
    }
  },
  "nbformat": 4,
  "nbformat_minor": 0
}