{
  "cells": [
    {
      "cell_type": "markdown",
      "metadata": {
        "id": "view-in-github",
        "colab_type": "text"
      },
      "source": [
        "<a href=\"https://colab.research.google.com/github/Ircken/Codigo/blob/main/juliaVDrive.ipynb\" target=\"_parent\"><img src=\"https://colab.research.google.com/assets/colab-badge.svg\" alt=\"Open In Colab\"/></a>"
      ]
    },
    {
      "cell_type": "markdown",
      "source": [
        "# Instalacion"
      ],
      "metadata": {
        "id": "h6-yFhcUq0Kg"
      }
    },
    {
      "cell_type": "code",
      "metadata": {
        "id": "PMGwZ7aFJL8Y"
      },
      "source": [
        "# Installation cell\n",
        "%%capture\n",
        "%%shell\n",
        "if ! command -v julia 3>&1 > /dev/null\n",
        "then\n",
        "    wget -q 'https://julialang-s3.julialang.org/bin/linux/x64/1.7/julia-1.7.2-linux-x86_64.tar.gz' \\\n",
        "        -O /tmp/julia.tar.gz\n",
        "    tar -x -f /tmp/julia.tar.gz -C /usr/local --strip-components 1\n",
        "    rm /tmp/julia.tar.gz\n",
        "fi\n",
        "julia -e 'using Pkg; pkg\"add IJulia; precompile;\"'\n",
        "echo 'Done'"
      ],
      "execution_count": 1,
      "outputs": []
    },
    {
      "cell_type": "markdown",
      "metadata": {
        "id": "XdMpcQduyaQc"
      },
      "source": [
        "After you run the first cell (the the cell directly above this text), go to Colab's menu bar and select **Edit** and select **Notebook settings** from the drop down. Select *Julia 1.7* in Runtime type. You can also select your prefered harwdware acceleration (defaults to GPU). \n",
        "\n",
        "<br/>You should see something like this:\n",
        "\n",
        "> ![Colab Img](https://raw.githubusercontent.com/Dsantra92/Julia-on-Colab/master/misc/julia_menu.png)\n",
        "\n",
        "<br/>Click on SAVE\n",
        "<br/>**We are ready to get going**\n",
        "\n",
        "\n",
        "\n"
      ]
    },
    {
      "cell_type": "code",
      "metadata": {
        "id": "iIxu4TjlJnBG",
        "colab": {
          "base_uri": "https://localhost:8080/"
        },
        "outputId": "1b7b39de-102b-494f-f39d-f48ed87be38a"
      },
      "source": [
        "VERSION"
      ],
      "execution_count": 1,
      "outputs": [
        {
          "output_type": "execute_result",
          "data": {
            "text/plain": [
              "v\"1.7.2\""
            ]
          },
          "metadata": {},
          "execution_count": 1
        }
      ]
    },
    {
      "cell_type": "markdown",
      "source": [
        "# Codigo"
      ],
      "metadata": {
        "id": "fbERDp6Tumt5"
      }
    },
    {
      "cell_type": "code",
      "execution_count": null,
      "metadata": {
        "id": "b5t-0RvFfsbn"
      },
      "outputs": [],
      "source": [
        "import Pkg; Pkg.add(\"DataFrames\")\n",
        "import Pkg; Pkg.add(\"Statistics\")\n",
        "import Pkg; Pkg.add(\"CSV\")\n",
        "import Pkg; Pkg.add(\"Suppressor\")\n",
        "import Pkg; Pkg.add(\"Dates\")\n",
        "\"\""
      ]
    },
    {
      "cell_type": "code",
      "execution_count": null,
      "metadata": {
        "id": "noZ2lYc2elfz"
      },
      "outputs": [],
      "source": [
        "using DataFrames\n",
        "using Statistics\n",
        "using CSV\n",
        "using Suppressor\n",
        "using Dates"
      ]
    },
    {
      "cell_type": "code",
      "execution_count": null,
      "metadata": {
        "id": "te9sOHtGelgE",
        "colab": {
          "base_uri": "https://localhost:8080/"
        },
        "outputId": "ff39f523-1b24-42c6-e73a-2c94d1baab71"
      },
      "outputs": [
        {
          "output_type": "execute_result",
          "data": {
            "text/plain": [
              "inicializar (generic function with 1 method)"
            ]
          },
          "metadata": {},
          "execution_count": 10
        }
      ],
      "source": [
        "function inicializar()\n",
        "    out = DataFrame(Hora = String[], kWhcount = Float64[], count = Int64[])\n",
        "    rename!(out, [:\"Hora\", :\"kWh*count\", :\"count\"])\n",
        "\n",
        "    for i in 0:23\n",
        "        for j in 0:3\n",
        "            append!(out[!, \"Hora\"],[hora(i, j)])\n",
        "            append!(out[!, \"kWh*count\"],[0.0])\n",
        "            append!(out[!, \"count\"],[0])\n",
        "        end\n",
        "    end    \n",
        "    \n",
        "    return out\n",
        "end"
      ]
    },
    {
      "cell_type": "code",
      "execution_count": null,
      "metadata": {
        "id": "9xgMRQeUelgG",
        "colab": {
          "base_uri": "https://localhost:8080/"
        },
        "outputId": "02cd11da-2353-4c8b-ae98-f909c5237290"
      },
      "outputs": [
        {
          "output_type": "execute_result",
          "data": {
            "text/plain": [
              "hora (generic function with 1 method)"
            ]
          },
          "metadata": {},
          "execution_count": 11
        }
      ],
      "source": [
        "function hora(i, j)      \n",
        "    if i != 0\n",
        "        if i < 10\n",
        "            h = \"0\" * string(i)\n",
        "        else\n",
        "            h = string(i)\n",
        "        end\n",
        "    else\n",
        "        h = \"00\"  \n",
        "    end   \n",
        "\n",
        "    if j != 0\n",
        "        m = string(j*15)\n",
        "    else\n",
        "        m = \"00\"    \n",
        "    end   \n",
        "    \n",
        "    return h * \":\" * m * \":\" * \"00\"\n",
        "end"
      ]
    },
    {
      "cell_type": "code",
      "execution_count": null,
      "metadata": {
        "id": "26HJeKVuelgJ",
        "colab": {
          "base_uri": "https://localhost:8080/"
        },
        "outputId": "3dd81aec-3364-4e2e-dca8-ecfd26e5900d"
      },
      "outputs": [
        {
          "output_type": "execute_result",
          "data": {
            "text/plain": [
              "sumar_columnas (generic function with 1 method)"
            ]
          },
          "metadata": {},
          "execution_count": 12
        }
      ],
      "source": [
        "function sumar_columnas(out, df)\n",
        "    \n",
        "    if !(isempty(out)) || !(isempty(df))\n",
        "            out[!, 2] .= out[!, 2] + df[!, 2]\n",
        "            out[!, 3] .= out[!, 3] + df[!, 3]\n",
        "        return out\n",
        "    end\n",
        "    \n",
        "end"
      ]
    },
    {
      "cell_type": "code",
      "execution_count": null,
      "metadata": {
        "id": "P_oy6JEzelgK",
        "colab": {
          "base_uri": "https://localhost:8080/"
        },
        "outputId": "b6dd5909-93e6-4214-965a-e75fe46d273a"
      },
      "outputs": [
        {
          "output_type": "execute_result",
          "data": {
            "text/plain": [
              "df_por_tarifa (generic function with 1 method)"
            ]
          },
          "metadata": {},
          "execution_count": 13
        }
      ],
      "source": [
        "function df_por_tarifa(df)\n",
        "\n",
        "    aux = DataFrame()\n",
        "    out = DataFrame(Hora = String[], kWhcount = Float64[], count = Int64[])\n",
        "    rename!(out, [:\"Hora\", :\"kWh*count\", :\"count\"])\n",
        "\n",
        "    for i in 0:23\n",
        "        for j in 0:3\n",
        "            horario = hora(i, j)\n",
        "            aux = filter(:\"Hora\" => n -> n == horario, df)\n",
        "\n",
        "            kWh = mean(aux[!, 2])\n",
        "            count = length(aux[!, 2])\n",
        "            prod = kWh*count\n",
        "\n",
        "            #push!(aux, [horario prod count])\n",
        "            append!(out[!, \"Hora\"],[horario])\n",
        "            append!(out[!, \"kWh*count\"],[prod])\n",
        "            append!(out[!, \"count\"],[count])        \n",
        "        end\n",
        "    end\n",
        "    return out\n",
        "    \n",
        "end"
      ]
    },
    {
      "cell_type": "code",
      "execution_count": null,
      "metadata": {
        "id": "a_g5nq7JelgL",
        "colab": {
          "base_uri": "https://localhost:8080/"
        },
        "outputId": "e5ace0df-0b9f-42d5-93e9-e14ab71d30ef"
      },
      "outputs": [
        {
          "output_type": "execute_result",
          "data": {
            "text/plain": [
              "t_n_f_index (generic function with 1 method)"
            ]
          },
          "metadata": {},
          "execution_count": 14
        }
      ],
      "source": [
        "# obtener tarifa\n",
        "function t_n_f_index(archivo)\n",
        "\n",
        "    open(archivo, \"r\") do f\n",
        "        lines = readlines(f)\n",
        "\n",
        "        tariff_index = findfirst(t -> occursin(\"Servicio:\", t), lines) # indices de tarifa y fecha\n",
        "                             \n",
        "        # obtener tipo de tarifa\n",
        "        tariff_vector = split(lines[tariff_index], \";\")\n",
        "        filter!(x -> x != \" \", tariff_vector) # eliminar espacio vacio \n",
        "        filter!(x -> x != \"\", tariff_vector) # eliminar espacio vacio \n",
        "        if occursin(\"Medicion:\", tariff_vector[2])\n",
        "            tariff_vector[2] = \"Medicion:\"\n",
        "        end\n",
        "        \n",
        "        # tarifa e indice de fecha\n",
        "        return tariff_vector[2]\n",
        "    end\n",
        "    \n",
        "end"
      ]
    },
    {
      "cell_type": "code",
      "execution_count": null,
      "metadata": {
        "id": "z8ZuEvBIelgM",
        "colab": {
          "base_uri": "https://localhost:8080/"
        },
        "outputId": "7b753e83-847b-4b63-e782-05065f790772"
      },
      "outputs": [
        {
          "output_type": "execute_result",
          "data": {
            "text/plain": [
              "limpiarTexto (generic function with 1 method)"
            ]
          },
          "metadata": {},
          "execution_count": 15
        }
      ],
      "source": [
        "function limpiarTexto(f)\n",
        "\n",
        "    lines = readlines(f)\n",
        "    fecha_in = findfirst(t -> occursin(\"Fecha\", t), lines)\n",
        "    lines[end] = \"\" # eliminar ultima linea\n",
        "    # si existe esa esctructura eliminarla\n",
        "    if lines[end - 1] == \";;;;;;;;;;;;;;;;\"\n",
        "        lines[end - 1] = \"\" \n",
        "    end\n",
        "\n",
        "    lines = lines[fecha_in: end] # obtener solo las lineas a partir de la fecha\n",
        "    lines[1] = replace(lines[1], \"\\xe1\" => \"\") # sustituir caracteres especiales  \n",
        "    string = join(lines, \"\\n\") # vector a string para leerlo como csv\n",
        "    string = replace(string, \";;\" => \";\") # eliminar duplicados\n",
        "    return string\n",
        "    \n",
        "end"
      ]
    },
    {
      "cell_type": "code",
      "execution_count": null,
      "metadata": {
        "id": "SUEAhbPgelgS",
        "colab": {
          "base_uri": "https://localhost:8080/"
        },
        "outputId": "3439cc8f-a874-45e2-edb3-efc5b75683c4"
      },
      "outputs": [
        {
          "output_type": "execute_result",
          "data": {
            "text/plain": [
              "primeraLimpiezaDF (generic function with 1 method)"
            ]
          },
          "metadata": {},
          "execution_count": 16
        }
      ],
      "source": [
        "function primeraLimpiezaDF(df)\n",
        "    \n",
        "    # renombrar \"Fecha hora\" a \"Fecha Hora\"\n",
        "    if \"Fecha hora\" in names(df)\n",
        "        rename!(df, \"Fecha hora\" => \"Fecha Hora\")\n",
        "    end\n",
        "    select!(df, \"Fecha Hora\", \"kWh\") # eliminar las columnas no utiles\n",
        "    dropmissing!(df, \"Fecha Hora\") # eliminar los missing\n",
        "    dropmissing!(df, \"kWh\") # eliminar los missing\n",
        "    \n",
        "    return df\n",
        "end"
      ]
    },
    {
      "cell_type": "code",
      "execution_count": null,
      "metadata": {
        "id": "WKpOnzV9elgT",
        "colab": {
          "base_uri": "https://localhost:8080/"
        },
        "outputId": "f7b45eda-c9c2-40c8-e490-63f98ad8100e"
      },
      "outputs": [
        {
          "output_type": "execute_result",
          "data": {
            "text/plain": [
              "segundaLimpiezaDF (generic function with 1 method)"
            ]
          },
          "metadata": {},
          "execution_count": 17
        }
      ],
      "source": [
        "function segundaLimpiezaDF(df)\n",
        "    \n",
        "    df[!,2] .= replace.(df[!,2], \",\" => \".\") # coma a punto\n",
        "    df[!,2] .= parse.(Float64, df[!,2]) # string a float\n",
        "\n",
        "    transform!(df, :\"Fecha Hora\" => ByRow(x -> split(x, ' ')) => [:\"Fecha\", :\"Hora\"]) # separar fecha y hora\n",
        "    df = df[:, [2, 4]] # dejar las columnas Fecha y Fecha Hora\n",
        "    df[!, 1], df[!, 2] = df[!, 2], df[!, 1] # cambiar valores de las columnas\n",
        "    rename!(df, [:\"Hora\", :\"kWh\"]) # renombrar columnas\n",
        "    \n",
        "    return df\n",
        "end"
      ]
    },
    {
      "cell_type": "code",
      "source": [
        "carpeta = \"procesar\"\n",
        "if !isdir(carpeta)\n",
        "    mkdir(carpeta)\n",
        "end"
      ],
      "metadata": {
        "colab": {
          "base_uri": "https://localhost:8080/"
        },
        "id": "00UA85AoKTOU",
        "outputId": "20e4217c-88af-4a9f-a66a-e6ae632885f2"
      },
      "execution_count": null,
      "outputs": [
        {
          "output_type": "execute_result",
          "data": {
            "text/plain": [
              "\"procesar\""
            ]
          },
          "metadata": {},
          "execution_count": 18
        }
      ]
    },
    {
      "cell_type": "code",
      "execution_count": null,
      "metadata": {
        "id": "sTJt8BWoelgU"
      },
      "outputs": [],
      "source": [
        "# obtener ubicacion de todos los archivos\n",
        "archivos = Vector{String}()\n",
        "# recorrer cada carpeta dentro de \"carpeta\"\n",
        "for folder in readdir(carpeta)\n",
        "    \n",
        "    # recorrer cada archivo dentro de la carpeta dentro de \"folder\"\n",
        "    for file in readdir(carpeta * \"/\" *folder)\n",
        "        push!(archivos, \"$carpeta/$folder/$file\")\n",
        "    end\n",
        "    \n",
        "end"
      ]
    },
    {
      "cell_type": "code",
      "execution_count": null,
      "metadata": {
        "id": "3tCUcKQxhIt3",
        "colab": {
          "base_uri": "https://localhost:8080/"
        },
        "outputId": "5b91f0b1-efd1-4661-d6c9-be8690631876"
      },
      "outputs": [
        {
          "output_type": "stream",
          "name": "stdout",
          "text": [
            "0\n"
          ]
        }
      ],
      "source": [
        "println(length(archivos))"
      ]
    },
    {
      "cell_type": "code",
      "execution_count": null,
      "metadata": {
        "id": "uk3eNEprelgV"
      },
      "outputs": [],
      "source": [
        "# obtener vectores de tarifa e indice de fecha\n",
        "tariff = Vector{String}()\n",
        "\n",
        "for i in 1:length(archivos)\n",
        "\n",
        "    archivo = archivos[i] # ORDEN DE LECTURA\n",
        "    aux = t_n_f_index(archivo)\n",
        "    # guardar tarifa e indice de fecha\n",
        "    push!(tariff, aux)\n",
        "\n",
        "end"
      ]
    },
    {
      "cell_type": "code",
      "execution_count": null,
      "metadata": {
        "id": "-JQm1xH3elgV"
      },
      "outputs": [],
      "source": [
        "tariff_set_list = collect(Set(tariff)) # lista de valores unicos\n",
        "for i in tariff_set_list\n",
        "    println(\"$i -> \", count(==(i), tariff))\n",
        "end"
      ]
    },
    {
      "cell_type": "code",
      "execution_count": null,
      "metadata": {
        "id": "M3Bgo78EelgW",
        "colab": {
          "base_uri": "https://localhost:8080/"
        },
        "outputId": "91e87186-f287-402e-b4b8-19cd7763ab7f"
      },
      "outputs": [
        {
          "output_type": "stream",
          "name": "stdout",
          "text": [
            "0\n"
          ]
        },
        {
          "output_type": "execute_result",
          "data": {
            "text/plain": [
              "\"\""
            ]
          },
          "metadata": {},
          "execution_count": 23
        }
      ],
      "source": [
        "arch = findall(x -> occursin(\"Medicion:\", x) , tariff)\n",
        "cant_archivos = length(arch)\n",
        "println(cant_archivos)\n",
        "#println(arch[1:cant_archivos]) \n",
        "\"\""
      ]
    },
    {
      "cell_type": "code",
      "execution_count": null,
      "metadata": {
        "id": "_CXexYLo3mYA",
        "colab": {
          "base_uri": "https://localhost:8080/"
        },
        "outputId": "504d3c11-c3a9-4bad-b2c7-5139a89bc3fc"
      },
      "outputs": [
        {
          "output_type": "execute_result",
          "data": {
            "text/plain": [
              "\"excel_out\""
            ]
          },
          "metadata": {},
          "execution_count": 24
        }
      ],
      "source": [
        "# definir carpeta de salida\n",
        "carpeta_salida = \"excel_out\"\n",
        "if !isdir(carpeta_salida)\n",
        "    mkdir(carpeta_salida)\n",
        "end"
      ]
    },
    {
      "cell_type": "code",
      "execution_count": null,
      "metadata": {
        "id": "PwIm7q314m0N",
        "colab": {
          "base_uri": "https://localhost:8080/"
        },
        "outputId": "bd060405-78b8-4ef8-c446-5b6811814bf8"
      },
      "outputs": [
        {
          "output_type": "execute_result",
          "data": {
            "text/plain": [
              "\"\""
            ]
          },
          "metadata": {},
          "execution_count": 25
        }
      ],
      "source": [
        "# definir tiempo de salida\n",
        "t = Dates.now() \n",
        "formatoTiempo = \"$(Dates.hour(t))h$(Dates.second(t))m$(Dates.minute(t))s_$(Dates.Date(t))\"\n",
        "\"\""
      ]
    },
    {
      "cell_type": "code",
      "execution_count": null,
      "metadata": {
        "id": "ZbP-nDDselgW",
        "colab": {
          "base_uri": "https://localhost:8080/"
        },
        "outputId": "b1301bba-de58-4ba4-840c-7b34cb425219"
      },
      "outputs": [
        {
          "output_type": "execute_result",
          "data": {
            "text/plain": [
              "\"\""
            ]
          },
          "metadata": {},
          "execution_count": 26
        }
      ],
      "source": [
        "# para cada tarifa\n",
        "# recorrer elementos unicos de tarifa\n",
        "@suppress begin\n",
        "    for i in 1:length(tariff_set_list)\n",
        "        \n",
        "        global contador = 0\n",
        "        # se opera sobre cada coincidencia de tarifa\n",
        "        # sin procesar \"Medicion:\"\n",
        "        if occursin(\"Medicion:\", tariff_set_list[i]) != true\n",
        "            global out = inicializar() # inicializar un df generico\n",
        "            posicion_tarifas = findall(x -> x == tariff_set_list[i] , tariff) # posiciones de tarifa    \n",
        "\n",
        "            # recorrer cada archivo de cada tarifa\n",
        "            for indice_tarifa in posicion_tarifas\n",
        "                archivo = archivos[indice_tarifa] # archivo con ese indice de tarifa\n",
        "                \n",
        "                    # abrir archivo\n",
        "                    open(archivo, \"r\") do f\n",
        "\n",
        "                        string = limpiarTexto(f) # preparar texto para df\n",
        "                        df = CSV.read(IOBuffer(string), DataFrame; delim = \";\", header = true) # string a csv                    \n",
        "                        df = primeraLimpiezaDF(df)\n",
        "\n",
        "                        if length(df[!, 1]) > 0\n",
        "                            \n",
        "                            global contador += 1\n",
        "                            df = segundaLimpiezaDF(df)\n",
        "                            df_out = df_por_tarifa(df) # df de solo 24h*(60min/1h)/15min = 96\n",
        "\n",
        "                            # limpiar NaN\n",
        "                            for col in eachcol(df_out)\n",
        "                                replace!(col, NaN => 0.0)\n",
        "                            end    \n",
        "\n",
        "                            out = sumar_columnas(df_out, out) # sumar df especifico\n",
        "                        \n",
        "                        end \n",
        "                    end\n",
        "            end\n",
        "            nombre = \"$(tariff_set_list[i])-$contador-$formatoTiempo\" \n",
        "            CSV.write(\"$carpeta_salida/$nombre.csv\", out) # guardar df por tarifa\n",
        "        end\n",
        "    end\n",
        "end\n",
        "\"\""
      ]
    },
    {
      "cell_type": "markdown",
      "metadata": {
        "id": "i60ANT5Pelga"
      },
      "source": [
        "---------------------------------------------------------------------------------------------------------------------------------------------------"
      ]
    }
  ],
  "metadata": {
    "colab": {
      "collapsed_sections": [
        "fbERDp6Tumt5"
      ],
      "name": "juliaVDrive.ipynb",
      "provenance": [],
      "toc_visible": true,
      "include_colab_link": true
    },
    "kernelspec": {
      "display_name": "Julia 1.7.2",
      "language": "julia",
      "name": "julia-1.7"
    },
    "language_info": {
      "file_extension": ".jl",
      "mimetype": "application/julia",
      "name": "julia",
      "version": "1.7.2"
    },
    "vscode": {
      "interpreter": {
        "hash": "93154fb6922f4ec00cf695e755af93d1bc36813b77bf10dba3094736dde7a702"
      }
    },
    "gpuClass": "standard"
  },
  "nbformat": 4,
  "nbformat_minor": 0
}