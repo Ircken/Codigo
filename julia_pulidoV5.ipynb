{
 "cells": [
  {
   "cell_type": "code",
   "execution_count": null,
   "metadata": {},
   "outputs": [],
   "source": [
    "using DataFrames\n",
    "using Statistics\n",
    "using CSV"
   ]
  },
  {
   "cell_type": "code",
   "execution_count": null,
   "metadata": {},
   "outputs": [],
   "source": [
    "function inicializar()\n",
    "    out = DataFrame(Hora = String[], kWhcount = Float64[], count = Int64[])\n",
    "    rename!(out, [:\"Hora\", :\"kWh*count\", :\"count\"])\n",
    "\n",
    "    for i in 0:23\n",
    "        for j in 0:3\n",
    "            append!(out[!, \"Hora\"],[hora(i, j)])\n",
    "            append!(out[!, \"kWh*count\"],[0.0])\n",
    "            append!(out[!, \"count\"],[0])\n",
    "        end\n",
    "    end    \n",
    "    \n",
    "    return out\n",
    "end"
   ]
  },
  {
   "cell_type": "code",
   "execution_count": null,
   "metadata": {},
   "outputs": [],
   "source": [
    "function hora(i, j)      \n",
    "    if i != 0\n",
    "        if i < 10\n",
    "            h = \"0\" * string(i)\n",
    "        else\n",
    "            h = string(i)\n",
    "        end\n",
    "    else\n",
    "        h = \"00\"  \n",
    "    end   \n",
    "\n",
    "    if j != 0\n",
    "        m = string(j*15)\n",
    "    else\n",
    "        m = \"00\"    \n",
    "    end   \n",
    "    \n",
    "    return h * \":\" * m * \":\" * \"00\"\n",
    "end"
   ]
  },
  {
   "cell_type": "code",
   "execution_count": null,
   "metadata": {},
   "outputs": [],
   "source": [
    "function sumar_columnas(out, df)\n",
    "    \n",
    "    if !(isempty(out)) || !(isempty(df))\n",
    "            out[!, 2] .= out[!, 2] + df[!, 2]\n",
    "            out[!, 3] .= out[!, 3] + df[!, 3]\n",
    "        return out\n",
    "    end\n",
    "end"
   ]
  },
  {
   "cell_type": "code",
   "execution_count": null,
   "metadata": {},
   "outputs": [],
   "source": [
    "function df_por_tarifa(df)\n",
    "    aux = DataFrame()\n",
    "    out = DataFrame(Hora = String[], kWhcount = Float64[], count = Int64[])\n",
    "    rename!(out, [:\"Hora\", :\"kWh*count\", :\"count\"])\n",
    "\n",
    "    for i in 0:23\n",
    "        for j in 0:3\n",
    "            horario = hora(i, j)\n",
    "            aux = filter(:\"Hora\" => n -> n == horario, df)\n",
    "\n",
    "            kWh = mean(aux[!, 2])\n",
    "            count = length(aux[!, 2])\n",
    "            prod = kWh*count\n",
    "\n",
    "            #push!(aux, [horario prod count])\n",
    "            append!(out[!, \"Hora\"],[horario])\n",
    "            append!(out[!, \"kWh*count\"],[prod])\n",
    "            append!(out[!, \"count\"],[count])        \n",
    "        end\n",
    "    end\n",
    "    return out\n",
    "end"
   ]
  },
  {
   "cell_type": "code",
   "execution_count": null,
   "metadata": {},
   "outputs": [],
   "source": [
    "# obtener tarifa\n",
    "function t_n_f_index(archivo)\n",
    "    open(archivo, \"r\") do f\n",
    "        lines = readlines(f)\n",
    "\n",
    "        tariff_index = findfirst(t -> occursin(\"Servicio:\", t), lines) # indices de tarifa y fecha\n",
    "                             \n",
    "        # obtener tipo de tarifa\n",
    "        tariff_vector = split(lines[tariff_index], \";\")\n",
    "        filter!(x -> x != \" \", tariff_vector) # eliminar espacio vacio \n",
    "        filter!(x -> x != \"\", tariff_vector) # eliminar espacio vacio \n",
    "        \n",
    "        # tarifa e indice de fecha\n",
    "        return tariff_vector[2]\n",
    "    end\n",
    "end"
   ]
  },
  {
   "cell_type": "code",
   "execution_count": null,
   "metadata": {},
   "outputs": [],
   "source": [
    "function limpiarTexto(f)\n",
    "\n",
    "    lines = readlines(f)\n",
    "    fecha_in = findfirst(t -> occursin(\"Fecha\", t), lines)\n",
    "    lines[end] = \"\" # eliminar ultima linea\n",
    "    # si existe esa esctructura eliminarla\n",
    "    if lines[end - 1] == \";;;;;;;;;;;;;;;;\"\n",
    "        lines[end - 1] = \"\" \n",
    "    end\n",
    "\n",
    "    lines = lines[fecha_in: end] # obtener solo las lineas a partir de la fecha\n",
    "    lines[1] = replace(lines[1], \"\\xe1\" => \"\") # sustituir caracteres especiales  \n",
    "    string = join(lines, \"\\n\") # vector a string para leerlo como csv\n",
    "    string = replace(string, \";;\" => \";\") # eliminar duplicados\n",
    "    \n",
    "    return string\n",
    "end"
   ]
  },
  {
   "cell_type": "code",
   "execution_count": null,
   "metadata": {},
   "outputs": [],
   "source": [
    "function primeraLimpiezaDF(df)\n",
    "    # renombrar \"Fecha hora\" a \"Fecha Hora\"\n",
    "    if \"Fecha hora\" in names(df)\n",
    "        rename!(df, \"Fecha hora\" => \"Fecha Hora\")\n",
    "    end\n",
    "    select!(df, \"Fecha Hora\", \"kWh\") # eliminar las columnas no utiles\n",
    "    dropmissing!(df, \"Fecha Hora\") # eliminar los missing\n",
    "    dropmissing!(df, \"kWh\") # eliminar los missing\n",
    "    \n",
    "    return df\n",
    "end"
   ]
  },
  {
   "cell_type": "code",
   "execution_count": null,
   "metadata": {},
   "outputs": [],
   "source": [
    "function segundaLimpiezaDF(df)\n",
    "    df[!,2] .= replace.(df[!,2], \",\" => \".\") # coma a punto\n",
    "    df[!,2] .= parse.(Float64, df[!,2]) # string a float\n",
    "\n",
    "    transform!(df, :\"Fecha Hora\" => ByRow(x -> split(x, ' ')) => [:\"Fecha\", :\"Hora\"]) # separar fecha y hora\n",
    "    df = df[:, [2, 4]] # dejar las columnas Fecha y Fecha Hora\n",
    "    df[!, 1], df[!, 2] = df[!, 2], df[!, 1] # cambiar valores de las columnas\n",
    "    rename!(df, [:\"Hora\", :\"kWh\"]) # renombrar columnas\n",
    "    \n",
    "    return df\n",
    "end"
   ]
  },
  {
   "cell_type": "code",
   "execution_count": null,
   "metadata": {},
   "outputs": [],
   "source": [
    "# obtener ubicacion de todos los archivos\n",
    "archivos = Vector{String}()\n",
    "carpeta = \"procesar\"\n",
    "# recorrer cada carpeta dentro de \"carpeta\"\n",
    "for folder in readdir(carpeta)\n",
    "    \n",
    "    # recorrer cada archivo dentro de la carpeta dentro de \"folder\"\n",
    "    for file in readdir(carpeta * \"/\" *folder)\n",
    "        push!(archivos, \"$carpeta/$folder/$file\")\n",
    "    end\n",
    "    \n",
    "end"
   ]
  },
  {
   "cell_type": "code",
   "execution_count": null,
   "metadata": {},
   "outputs": [],
   "source": [
    "# obtener vectores de tarifa e indice de fecha\n",
    "tariff = Vector{String}()\n",
    "\n",
    "for i in 1:length(archivos)\n",
    "\n",
    "    archivo = archivos[i]\n",
    "    aux = t_n_f_index(archivo)\n",
    "    # guardar tarifa e indice de fecha\n",
    "    push!(tariff, aux)\n",
    "\n",
    "end"
   ]
  },
  {
   "cell_type": "code",
   "execution_count": null,
   "metadata": {},
   "outputs": [],
   "source": [
    "tariff_set = Set(tariff)\n",
    "tariff_set_list = collect(tariff_set)\n",
    "#B = [(i, count(==(i), tarif)) for i in unique(tarif)]\n",
    "for i in unique(tariff)\n",
    "    println(\"$i -> \", count(==(i), tariff))\n",
    "end"
   ]
  },
  {
   "cell_type": "code",
   "execution_count": null,
   "metadata": {},
   "outputs": [],
   "source": [
    "# para cada tarifa\n",
    "contador = 0\n",
    "# recorrer elementos unicos de tarifa\n",
    "for i in 1:length(tariff_set_list)\n",
    "\n",
    "    # se opera sobre cada coincidencia de tarifa\n",
    "    # sin procesar \"Medicion:\"\n",
    "    if occursin(\"Medicion:\", tariff_set_list[i]) != true\n",
    "        global out = inicializar() # inicializar un dataframe\n",
    "        posicion_tarifas = findall(x -> x == tariff_set_list[i] , tariff) # posiciones de tarifa    \n",
    "\n",
    "        # recorrer cada archivo de cada tarifa\n",
    "        for indice_tarifa in posicion_tarifas\n",
    "            archivo = archivos[indice_tarifa]\n",
    "            \n",
    "                open(archivo, \"r\") do f\n",
    "\n",
    "                    string = limpiarTexto(f)\n",
    "                    df = CSV.read(IOBuffer(string), DataFrame; delim = \";\", header = true) # string a csv                    \n",
    "                    df = primeraLimpiezaDF(df)\n",
    "\n",
    "                    if length(df[!, 1]) > 100\n",
    "                        \n",
    "                        df = segundaLimpiezaDF(df)\n",
    "                        df_out = df_por_tarifa(df)\n",
    "                        for col in eachcol(df_out)\n",
    "                            replace!(col, NaN => 0.0)\n",
    "                        end    \n",
    "                        out = sumar_columnas(df_out, out)\n",
    "                    \n",
    "                    end \n",
    "                end\n",
    "        end\n",
    "        nombre = \"$(tariff_set_list[i])-$(count(==(tariff_set_list[i]), tariff))\"\n",
    "        CSV.write(\"excel_out/$nombre.csv\", out)\n",
    "    end\n",
    "end\n",
    "\"\""
   ]
  },
  {
   "cell_type": "markdown",
   "metadata": {},
   "source": [
    "2200 archivos -> 17m 43s"
   ]
  },
  {
   "cell_type": "markdown",
   "metadata": {},
   "source": [
    "2000 archivos -> 15m 27.9s"
   ]
  },
  {
   "cell_type": "markdown",
   "metadata": {},
   "source": [
    "1500 archivos -> 13m 26.6s"
   ]
  },
  {
   "cell_type": "markdown",
   "metadata": {},
   "source": [
    "1000 archivos -> 7m 55.1s"
   ]
  },
  {
   "cell_type": "markdown",
   "metadata": {},
   "source": [
    "500 archivos -> 5m 13s"
   ]
  },
  {
   "cell_type": "markdown",
   "metadata": {},
   "source": [
    "---------------------------------------------------------------------------------------------------------------------------------------------------"
   ]
  }
 ],
 "metadata": {
  "kernelspec": {
   "display_name": "Julia 1.7.2",
   "language": "julia",
   "name": "julia-1.7"
  },
  "language_info": {
   "file_extension": ".jl",
   "mimetype": "application/julia",
   "name": "julia",
   "version": "1.7.2"
  },
  "orig_nbformat": 4,
  "vscode": {
   "interpreter": {
    "hash": "93154fb6922f4ec00cf695e755af93d1bc36813b77bf10dba3094736dde7a702"
   }
  }
 },
 "nbformat": 4,
 "nbformat_minor": 2
}
