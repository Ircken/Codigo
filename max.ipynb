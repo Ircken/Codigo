{
 "cells": [
  {
   "cell_type": "code",
   "execution_count": 62,
   "metadata": {},
   "outputs": [],
   "source": [
    "using DataFrames\n",
    "using CSV"
   ]
  },
  {
   "cell_type": "code",
   "execution_count": 63,
   "metadata": {},
   "outputs": [
    {
     "data": {
      "text/plain": [
       "limpiarTexto (generic function with 1 method)"
      ]
     },
     "execution_count": 63,
     "metadata": {},
     "output_type": "execute_result"
    }
   ],
   "source": [
    "function limpiarTexto(f)\n",
    "\n",
    "    lines = readlines(f)\n",
    "    fecha_in = findfirst(t -> occursin(\"Fecha\", t), lines)\n",
    "    lines[end] = \"\" # eliminar ultima linea\n",
    "    # si existe esa esctructura eliminarla\n",
    "    if lines[end - 1] == \";;;;;;;;;;;;;;;;\"\n",
    "        lines[end - 1] = \"\" \n",
    "    end\n",
    "\n",
    "    lines = lines[fecha_in: end] # obtener solo las lineas a partir de la fecha\n",
    "    lines[1] = replace(lines[1], \"\\xe1\" => \"\") # sustituir caracteres especiales  \n",
    "    string = join(lines, \"\\n\") # vector a string para leerlo como csv\n",
    "    string = replace(string, \";;\" => \";\") # eliminar duplicados\n",
    "    \n",
    "    return string\n",
    "end"
   ]
  },
  {
   "cell_type": "code",
   "execution_count": 64,
   "metadata": {},
   "outputs": [],
   "source": [
    "arr = []\n",
    "carpeta = \"C:/Users/Matias/Desktop/buscar dato\"\n",
    "for i in 1:length(readdir(carpeta))\n",
    "    archivo = carpeta * \"/\" * string(i) * \"ReporteRegistros.csv\"\n",
    "    push!(arr, archivo)\n",
    "end"
   ]
  },
  {
   "cell_type": "code",
   "execution_count": 69,
   "metadata": {},
   "outputs": [],
   "source": [
    "vector = []\n",
    "for j in 1:length(readdir(carpeta))\n",
    "    archivo = carpeta * \"/\" * string(j) * \"ReporteRegistros.csv\"\n",
    "    open(archivo, \"r\") do f\n",
    "        string = limpiarTexto(f)\n",
    "        global df = CSV.read(IOBuffer(string), DataFrame; delim = \";\", header = true) # string a csv\n",
    "        select!(df, \"Fecha Hora\", \"D.Mx kW\") \n",
    "        \n",
    "        flag = false\n",
    "        for i in 1:length(df[!, 1])\n",
    "            \n",
    "            if startswith(df[i, 1], \"31/05/22 20:30:00\")\n",
    "                push!(vector, df[i, 2])\n",
    "                flag = true\n",
    "            end\n",
    "            if flag == false && i == length(df[!, 1])\n",
    "                push!(vector, \"sin dato\")\n",
    "            end\n",
    "\n",
    "        end\n",
    "    end\n",
    "end"
   ]
  },
  {
   "cell_type": "code",
   "execution_count": 70,
   "metadata": {},
   "outputs": [],
   "source": [
    "open(\"C:/Users/Matias/Desktop/llenar/out.txt\", \"a\") do file\n",
    "    for k in 1:length(vector)\n",
    "        write(file, replace(vector[k], \",\" => \".\") * \"\\n\")\n",
    "    end\n",
    "end"
   ]
  }
 ],
 "metadata": {
  "kernelspec": {
   "display_name": "Julia 1.7.2",
   "language": "julia",
   "name": "julia-1.7"
  },
  "language_info": {
   "file_extension": ".jl",
   "mimetype": "application/julia",
   "name": "julia",
   "version": "1.7.2"
  },
  "orig_nbformat": 4
 },
 "nbformat": 4,
 "nbformat_minor": 2
}
