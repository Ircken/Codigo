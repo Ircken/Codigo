{
 "cells": [
  {
   "cell_type": "code",
   "execution_count": 1,
   "metadata": {},
   "outputs": [
    {
     "data": {
      "text/plain": [
       "100"
      ]
     },
     "execution_count": 1,
     "metadata": {},
     "output_type": "execute_result"
    }
   ],
   "source": [
    "carpeta = \"renombrar\"\n",
    "archivos = readdir(carpeta)\n",
    "cantidad = length(archivos)"
   ]
  },
  {
   "cell_type": "code",
   "execution_count": 2,
   "metadata": {},
   "outputs": [
    {
     "data": {
      "text/plain": [
       "100"
      ]
     },
     "execution_count": 2,
     "metadata": {},
     "output_type": "execute_result"
    }
   ],
   "source": [
    "source = \"Data completos\"\n",
    "folders = readdir(source)\n",
    "filter!(x -> length(readdir(source * \"/\" * x)) != 0, folders)\n",
    "cantidad = length(readdir(\"renombrar\"))"
   ]
  },
  {
   "cell_type": "code",
   "execution_count": 3,
   "metadata": {},
   "outputs": [
    {
     "data": {
      "text/plain": [
       "23-element Vector{Int64}:\n",
       "  100\n",
       " 1000\n",
       " 1100\n",
       " 1200\n",
       " 1300\n",
       " 1400\n",
       " 1500\n",
       " 1600\n",
       " 1700\n",
       " 1800\n",
       " 1900\n",
       "  200\n",
       " 2000\n",
       " 2100\n",
       " 2200\n",
       " 2300\n",
       "  300\n",
       "  400\n",
       "  500\n",
       "  600\n",
       "  700\n",
       "  800\n",
       "  900"
      ]
     },
     "execution_count": 3,
     "metadata": {},
     "output_type": "execute_result"
    }
   ],
   "source": [
    "folders = parse.(Int64, folders)"
   ]
  },
  {
   "cell_type": "code",
   "execution_count": 4,
   "metadata": {},
   "outputs": [
    {
     "data": {
      "text/plain": [
       "2300"
      ]
     },
     "execution_count": 4,
     "metadata": {},
     "output_type": "execute_result"
    }
   ],
   "source": [
    "max = maximum(folders)"
   ]
  },
  {
   "cell_type": "code",
   "execution_count": 5,
   "metadata": {},
   "outputs": [
    {
     "data": {
      "text/plain": [
       "\"asd\""
      ]
     },
     "execution_count": 5,
     "metadata": {},
     "output_type": "execute_result"
    }
   ],
   "source": [
    "inicio = max + 1\n",
    "fin = inicio + cantidad\n",
    "num = [x for x in inicio:fin]\n",
    "\"asd\""
   ]
  },
  {
   "cell_type": "code",
   "execution_count": 6,
   "metadata": {},
   "outputs": [
    {
     "name": "stdout",
     "output_type": "stream",
     "text": [
      "2301\n",
      "2401\n"
     ]
    }
   ],
   "source": [
    "println(num[1])\n",
    "println(num[end])"
   ]
  },
  {
   "cell_type": "code",
   "execution_count": 7,
   "metadata": {},
   "outputs": [],
   "source": [
    "for i in 1:cantidad\n",
    "    archivo = \"renombrar/\" * archivos[i]\n",
    "    renombrado = \"renombrar/ReporteRegistros$(num[i]).csv\" \n",
    "\n",
    "    if !isfile(renombrado)\n",
    "        mv(archivo, renombrado)\n",
    "    end\n",
    "\n",
    "end"
   ]
  }
 ],
 "metadata": {
  "kernelspec": {
   "display_name": "Julia 1.7.2",
   "language": "julia",
   "name": "julia-1.7"
  },
  "language_info": {
   "file_extension": ".jl",
   "mimetype": "application/julia",
   "name": "julia",
   "version": "1.7.2"
  },
  "orig_nbformat": 4
 },
 "nbformat": 4,
 "nbformat_minor": 2
}
